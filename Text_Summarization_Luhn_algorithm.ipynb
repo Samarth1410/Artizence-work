{
 "cells": [
  {
   "cell_type": "markdown",
   "metadata": {
    "id": "FyoFbahV8DCO"
   },
   "source": [
    "# Preparing the environment"
   ]
  },
  {
   "cell_type": "code",
   "execution_count": 38,
   "metadata": {
    "id": "2Vk1t0I8XV2I"
   },
   "outputs": [],
   "source": [
    "import re\n",
    "import nltk\n",
    "import string\n",
    "import heapq\n",
    "import spacy\n",
    "nlp = spacy.load('en_core_web_sm')"
   ]
  },
  {
   "cell_type": "code",
   "execution_count": 2,
   "metadata": {
    "colab": {
     "base_uri": "https://localhost:8080/"
    },
    "id": "JhBgeyETXY9_",
    "outputId": "b4421787-385a-4074-c41e-367a797fc242"
   },
   "outputs": [
    {
     "name": "stderr",
     "output_type": "stream",
     "text": [
      "[nltk_data] Downloading package punkt to\n",
      "[nltk_data]     C:\\Users\\samar\\AppData\\Roaming\\nltk_data...\n",
      "[nltk_data]   Package punkt is already up-to-date!\n"
     ]
    },
    {
     "data": {
      "text/plain": [
       "True"
      ]
     },
     "execution_count": 2,
     "metadata": {},
     "output_type": "execute_result"
    }
   ],
   "source": [
    "nltk.download('punkt')"
   ]
  },
  {
   "cell_type": "code",
   "execution_count": 3,
   "metadata": {
    "colab": {
     "base_uri": "https://localhost:8080/"
    },
    "id": "CA1uDtHqXaqy",
    "outputId": "de18e078-de07-4111-84bc-4a390fba7a94"
   },
   "outputs": [
    {
     "name": "stderr",
     "output_type": "stream",
     "text": [
      "[nltk_data] Downloading package stopwords to\n",
      "[nltk_data]     C:\\Users\\samar\\AppData\\Roaming\\nltk_data...\n",
      "[nltk_data]   Package stopwords is already up-to-date!\n"
     ]
    },
    {
     "data": {
      "text/plain": [
       "True"
      ]
     },
     "execution_count": 3,
     "metadata": {},
     "output_type": "execute_result"
    }
   ],
   "source": [
    "nltk.download('stopwords')"
   ]
  },
  {
   "cell_type": "code",
   "execution_count": 4,
   "metadata": {
    "colab": {
     "base_uri": "https://localhost:8080/",
     "height": 108
    },
    "id": "TchF3op_XcnO",
    "outputId": "15dea08e-b7d6-43e2-a6ab-e3f7ed3601ba"
   },
   "outputs": [
    {
     "data": {
      "text/plain": [
       "'Artificial intelligence is human like intelligence machines. It is the study of intelligent artificial agents. Science and engineering to produce intelligent machines. Solve problems and have intelligence. Related to intelligent behavior machines. Developing of reasoning machines. Learn from mistakes and successes. Artificial intelligence is related to reasoning in everyday situations.'"
      ]
     },
     "execution_count": 4,
     "metadata": {},
     "output_type": "execute_result"
    }
   ],
   "source": [
    "original_text = \"\"\"Artificial intelligence is human like intelligence machines. \n",
    "                   It is the study of intelligent artificial agents. \n",
    "                   Science and engineering to produce intelligent machines. \n",
    "                   Solve problems and have intelligence. \n",
    "                   Related to intelligent behavior machines. \n",
    "                   Developing of reasoning machines. \n",
    "                   Learn from mistakes and successes. \n",
    "                   Artificial intelligence is related to reasoning in everyday situations.\"\"\"\n",
    "\n",
    "original_text = re.sub(r'\\s+', ' ', original_text)\n",
    "original_text"
   ]
  },
  {
   "cell_type": "code",
   "execution_count": 5,
   "metadata": {
    "colab": {
     "base_uri": "https://localhost:8080/"
    },
    "id": "LyQoxXKmXewi",
    "outputId": "e71aabbc-1ea1-42c4-9836-ac52e20751b8"
   },
   "outputs": [
    {
     "name": "stdout",
     "output_type": "stream",
     "text": [
      "['i', 'me', 'my', 'myself', 'we', 'our', 'ours', 'ourselves', 'you', \"you're\", \"you've\", \"you'll\", \"you'd\", 'your', 'yours', 'yourself', 'yourselves', 'he', 'him', 'his', 'himself', 'she', \"she's\", 'her', 'hers', 'herself', 'it', \"it's\", 'its', 'itself', 'they', 'them', 'their', 'theirs', 'themselves', 'what', 'which', 'who', 'whom', 'this', 'that', \"that'll\", 'these', 'those', 'am', 'is', 'are', 'was', 'were', 'be', 'been', 'being', 'have', 'has', 'had', 'having', 'do', 'does', 'did', 'doing', 'a', 'an', 'the', 'and', 'but', 'if', 'or', 'because', 'as', 'until', 'while', 'of', 'at', 'by', 'for', 'with', 'about', 'against', 'between', 'into', 'through', 'during', 'before', 'after', 'above', 'below', 'to', 'from', 'up', 'down', 'in', 'out', 'on', 'off', 'over', 'under', 'again', 'further', 'then', 'once', 'here', 'there', 'when', 'where', 'why', 'how', 'all', 'any', 'both', 'each', 'few', 'more', 'most', 'other', 'some', 'such', 'no', 'nor', 'not', 'only', 'own', 'same', 'so', 'than', 'too', 'very', 's', 't', 'can', 'will', 'just', 'don', \"don't\", 'should', \"should've\", 'now', 'd', 'll', 'm', 'o', 're', 've', 'y', 'ain', 'aren', \"aren't\", 'couldn', \"couldn't\", 'didn', \"didn't\", 'doesn', \"doesn't\", 'hadn', \"hadn't\", 'hasn', \"hasn't\", 'haven', \"haven't\", 'isn', \"isn't\", 'ma', 'mightn', \"mightn't\", 'mustn', \"mustn't\", 'needn', \"needn't\", 'shan', \"shan't\", 'shouldn', \"shouldn't\", 'wasn', \"wasn't\", 'weren', \"weren't\", 'won', \"won't\", 'wouldn', \"wouldn't\"]\n"
     ]
    }
   ],
   "source": [
    "stopwords = nltk.corpus.stopwords.words('english')\n",
    "print(stopwords)"
   ]
  },
  {
   "cell_type": "code",
   "execution_count": 6,
   "metadata": {
    "id": "0XMgl673Xho8"
   },
   "outputs": [],
   "source": [
    "def preprocess(text):\n",
    "  formatted_text = text.lower()\n",
    "  tokens = []\n",
    "  for token in nltk.word_tokenize(formatted_text):\n",
    "    tokens.append(token)\n",
    "  tokens = [word for word in tokens if word not in stopwords and word not in string.punctuation]\n",
    "  formatted_text = ' '.join(element for element in tokens)\n",
    "\n",
    "  return formatted_text"
   ]
  },
  {
   "cell_type": "code",
   "execution_count": 7,
   "metadata": {
    "colab": {
     "base_uri": "https://localhost:8080/",
     "height": 90
    },
    "id": "gRlO1-NgXjfw",
    "outputId": "2480a20f-841a-477b-f539-2ef0df5bf561"
   },
   "outputs": [
    {
     "data": {
      "text/plain": [
       "'artificial intelligence human like intelligence machines study intelligent artificial agents science engineering produce intelligent machines solve problems intelligence related intelligent behavior machines developing reasoning machines learn mistakes successes artificial intelligence related reasoning everyday situations'"
      ]
     },
     "execution_count": 7,
     "metadata": {},
     "output_type": "execute_result"
    }
   ],
   "source": [
    "formatted_text = preprocess(original_text)\n",
    "formatted_text"
   ]
  },
  {
   "cell_type": "markdown",
   "metadata": {
    "id": "7p82fIty8K3n"
   },
   "source": [
    "# Function to calculate sentences score"
   ]
  },
  {
   "cell_type": "code",
   "execution_count": 8,
   "metadata": {
    "id": "QuAqmGlkrEHF"
   },
   "outputs": [],
   "source": [
    "def calculate_sentences_score(sentences, important_words, distance):\n",
    "  scores = []\n",
    "  sentence_index = 0\n",
    "\n",
    "  for sentence in [nltk.word_tokenize(sentence) for sentence in sentences]:\n",
    "    #print('------------')\n",
    "    #print(sentence)\n",
    "\n",
    "    word_index = []\n",
    "    for word in important_words:\n",
    "      #print(word)\n",
    "      try:\n",
    "        word_index.append(sentence.index(word))\n",
    "      except ValueError:\n",
    "        pass\n",
    "\n",
    "    word_index.sort()\n",
    "    #print(word_index)\n",
    "\n",
    "    if len(word_index) == 0:\n",
    "      continue\n",
    "\n",
    "    # [0, 1, 5]\n",
    "    groups_list = []\n",
    "    group = [word_index[0]]\n",
    "    i = 1 # 3\n",
    "    while i < len(word_index): # 3\n",
    "      # first execution: 1 - 0 = 1\n",
    "      # second execution: 2 - 1 = 1\n",
    "      if word_index[i] - word_index[i - 1] < distance:\n",
    "        group.append(word_index[i])\n",
    "        #print('group', group)\n",
    "      else:\n",
    "        groups_list.append(group[:])\n",
    "        group = [word_index[i]]\n",
    "        #print('group', group)\n",
    "      i += 1\n",
    "    groups_list.append(group)\n",
    "    #print('all groups', groups_list)\n",
    "\n",
    "    max_group_score = 0\n",
    "    for g in groups_list:\n",
    "      #print(g)\n",
    "      important_words_in_group = len(g)\n",
    "      total_words_in_group = g[-1] - g[0] + 1\n",
    "      score = 1.0 * important_words_in_group**2 / total_words_in_group\n",
    "      #print('group score', score)\n",
    "\n",
    "      if score > max_group_score:\n",
    "        max_group_score = score\n",
    "\n",
    "    scores.append((max_group_score, sentence_index))\n",
    "    sentence_index += 1\n",
    "\n",
    "  #print('final scores', scores)\n",
    "  return scores"
   ]
  },
  {
   "cell_type": "code",
   "execution_count": 9,
   "metadata": {
    "colab": {
     "base_uri": "https://localhost:8080/"
    },
    "id": "WNVJj4bMuC_P",
    "outputId": "b3b8dc4e-dbbc-4c8b-f25d-e1c9fe5578ee"
   },
   "outputs": [
    {
     "data": {
      "text/plain": [
       "0"
      ]
     },
     "execution_count": 9,
     "metadata": {},
     "output_type": "execute_result"
    }
   ],
   "source": [
    "test = ['a', 'b', 'c']\n",
    "test.index('a')"
   ]
  },
  {
   "cell_type": "code",
   "execution_count": 10,
   "metadata": {
    "colab": {
     "base_uri": "https://localhost:8080/"
    },
    "id": "Yhg66V2lC-Qj",
    "outputId": "51e6755f-156c-43b9-8a76-5a8501bece47"
   },
   "outputs": [
    {
     "data": {
      "text/plain": [
       "(9, 1)"
      ]
     },
     "execution_count": 10,
     "metadata": {},
     "output_type": "execute_result"
    }
   ],
   "source": [
    "test = [0,1,3,4,6,9]\n",
    "test[-1], test[0] + 1"
   ]
  },
  {
   "cell_type": "markdown",
   "metadata": {
    "id": "LhfqSOJL8URO"
   },
   "source": [
    "# Function to summarize the texts"
   ]
  },
  {
   "cell_type": "code",
   "execution_count": 11,
   "metadata": {
    "id": "vhXDxZ6Tdq-9"
   },
   "outputs": [],
   "source": [
    "def summarize(text, top_n_words, distance, number_of_sentences, percentage = 0):\n",
    "  original_sentences = [sentence for sentence in nltk.sent_tokenize(text)]\n",
    "  #print(original_sentences)\n",
    "  formatted_sentences = [preprocess(original_sentence) for original_sentence in original_sentences]\n",
    "  #print(formatted_sentences)\n",
    "  words = [word for sentence in formatted_sentences for word in nltk.word_tokenize(sentence)]\n",
    "  #print(words)\n",
    "  frequency = nltk.FreqDist(words)\n",
    "  #print(frequency)\n",
    "  #return frequency\n",
    "  top_n_words = [word[0] for word in frequency.most_common(top_n_words)]\n",
    "  #print(top_n_words)\n",
    "  sentences_score = calculate_sentences_score(formatted_sentences, top_n_words, distance)\n",
    "  #print(sentences_score)\n",
    "  if percentage > 0:\n",
    "    best_sentences = heapq.nlargest(int(len(formatted_sentences) * percentage), sentences_score)\n",
    "  else:  \n",
    "    best_sentences = heapq.nlargest(number_of_sentences, sentences_score)\n",
    "  #print(best_sentences)\n",
    "  best_sentences = [original_sentences[i] for (score, i) in best_sentences]\n",
    "  #print(best_sentences)\n",
    "  return original_sentences, best_sentences, sentences_score"
   ]
  },
  {
   "cell_type": "code",
   "execution_count": 12,
   "metadata": {
    "id": "sKLzRbsme0Zi"
   },
   "outputs": [],
   "source": [
    "original_sentences, best_sentences, sentences_score = summarize(original_text, 5, 2, 3)"
   ]
  },
  {
   "cell_type": "code",
   "execution_count": 13,
   "metadata": {
    "colab": {
     "base_uri": "https://localhost:8080/"
    },
    "id": "6XHKGk-wJOSP",
    "outputId": "59c60d97-7a8f-40d2-acdb-27f309e1afe4"
   },
   "outputs": [
    {
     "data": {
      "text/plain": [
       "['Artificial intelligence is human like intelligence machines.',\n",
       " 'It is the study of intelligent artificial agents.',\n",
       " 'Science and engineering to produce intelligent machines.',\n",
       " 'Solve problems and have intelligence.',\n",
       " 'Related to intelligent behavior machines.',\n",
       " 'Developing of reasoning machines.',\n",
       " 'Learn from mistakes and successes.',\n",
       " 'Artificial intelligence is related to reasoning in everyday situations.']"
      ]
     },
     "execution_count": 13,
     "metadata": {},
     "output_type": "execute_result"
    }
   ],
   "source": [
    "original_sentences"
   ]
  },
  {
   "cell_type": "code",
   "execution_count": 14,
   "metadata": {
    "colab": {
     "base_uri": "https://localhost:8080/"
    },
    "id": "wKyDj6uiJQb3",
    "outputId": "1332f7fe-e4d2-4ed7-8258-e2139621614d"
   },
   "outputs": [
    {
     "data": {
      "text/plain": [
       "['Learn from mistakes and successes.',\n",
       " 'Related to intelligent behavior machines.',\n",
       " 'Science and engineering to produce intelligent machines.']"
      ]
     },
     "execution_count": 14,
     "metadata": {},
     "output_type": "execute_result"
    }
   ],
   "source": [
    "best_sentences"
   ]
  },
  {
   "cell_type": "code",
   "execution_count": 15,
   "metadata": {
    "colab": {
     "base_uri": "https://localhost:8080/"
    },
    "id": "FWS06whRJUIt",
    "outputId": "7e931ab1-1490-44ee-d706-db0f4b43cd21"
   },
   "outputs": [
    {
     "data": {
      "text/plain": [
       "[(2.0, 0), (2.0, 1), (2.0, 2), (1.0, 3), (2.0, 4), (1.0, 5), (3.0, 6)]"
      ]
     },
     "execution_count": 15,
     "metadata": {},
     "output_type": "execute_result"
    }
   ],
   "source": [
    "sentences_score"
   ]
  },
  {
   "cell_type": "code",
   "execution_count": 16,
   "metadata": {
    "id": "3sUgt07wJiV9"
   },
   "outputs": [],
   "source": [
    "from IPython.core.display import HTML"
   ]
  },
  {
   "cell_type": "code",
   "execution_count": 17,
   "metadata": {
    "id": "psOE1pWSJj63"
   },
   "outputs": [],
   "source": [
    "def visualize(title, sentence_list, best_sentences):\n",
    "  from IPython.core.display import HTML\n",
    "  text = ''\n",
    "\n",
    "  display(HTML(f'<h1>Summary - {title}</h1>'))\n",
    "  for sentence in sentence_list:\n",
    "    if sentence in best_sentences:\n",
    "      text += ' ' + str(sentence).replace(sentence, f\"<mark>{sentence}</mark>\")\n",
    "    else:\n",
    "      text += ' ' + sentence\n",
    "  display(HTML(f\"\"\" {text} \"\"\"))"
   ]
  },
  {
   "cell_type": "markdown",
   "metadata": {
    "id": "80U_T1vKdoZE"
   },
   "source": [
    "# Extracting texts from the Internet"
   ]
  },
  {
   "cell_type": "code",
   "execution_count": 18,
   "metadata": {
    "id": "QCIk2HR6drmX"
   },
   "outputs": [
    {
     "name": "stdout",
     "output_type": "stream",
     "text": [
      "Requirement already satisfied: goose3 in d:\\anaconda\\lib\\site-packages (3.1.12)\n",
      "Requirement already satisfied: langdetect in d:\\anaconda\\lib\\site-packages (from goose3) (1.0.9)\n",
      "Requirement already satisfied: Pillow in d:\\anaconda\\lib\\site-packages (from goose3) (9.0.1)\n",
      "Requirement already satisfied: lxml in d:\\anaconda\\lib\\site-packages (from goose3) (4.8.0)\n",
      "Requirement already satisfied: requests in d:\\anaconda\\lib\\site-packages (from goose3) (2.27.1)\n",
      "Requirement already satisfied: python-dateutil in d:\\anaconda\\lib\\site-packages (from goose3) (2.8.2)\n",
      "Requirement already satisfied: cssselect in d:\\anaconda\\lib\\site-packages (from goose3) (1.1.0)\n",
      "Requirement already satisfied: beautifulsoup4 in d:\\anaconda\\lib\\site-packages (from goose3) (4.11.1)\n",
      "Requirement already satisfied: pyahocorasick in d:\\anaconda\\lib\\site-packages (from goose3) (1.4.4)\n",
      "Requirement already satisfied: soupsieve>1.2 in d:\\anaconda\\lib\\site-packages (from beautifulsoup4->goose3) (2.3.1)\n",
      "Requirement already satisfied: six in d:\\anaconda\\lib\\site-packages (from langdetect->goose3) (1.16.0)\n",
      "Requirement already satisfied: charset-normalizer~=2.0.0 in d:\\anaconda\\lib\\site-packages (from requests->goose3) (2.0.4)\n",
      "Requirement already satisfied: idna<4,>=2.5 in d:\\anaconda\\lib\\site-packages (from requests->goose3) (3.3)\n",
      "Requirement already satisfied: certifi>=2017.4.17 in d:\\anaconda\\lib\\site-packages (from requests->goose3) (2021.10.8)\n",
      "Requirement already satisfied: urllib3<1.27,>=1.21.1 in d:\\anaconda\\lib\\site-packages (from requests->goose3) (1.26.9)\n"
     ]
    }
   ],
   "source": [
    "!pip install goose3"
   ]
  },
  {
   "cell_type": "code",
   "execution_count": 19,
   "metadata": {
    "id": "rCnUjPh_p2Yv"
   },
   "outputs": [],
   "source": [
    "from goose3 import Goose"
   ]
  },
  {
   "cell_type": "code",
   "execution_count": 166,
   "metadata": {
    "id": "1eW1Ikvfp7GN"
   },
   "outputs": [],
   "source": [
    "g = Goose()\n",
    "url = 'https://en.wikipedia.org/wiki/Bill_Gates'\n",
    "article = g.extract(url)"
   ]
  },
  {
   "cell_type": "code",
   "execution_count": 167,
   "metadata": {
    "colab": {
     "base_uri": "https://localhost:8080/",
     "height": 232
    },
    "id": "Ay5tZZkKqLsP",
    "outputId": "d29e8310-0030-455f-ba33-8cebdd27a376"
   },
   "outputs": [
    {
     "data": {
      "text/plain": [
       "'William Henry Gates III (born October 28, 1955) is an American business magnate, software developer, investor, author, and philanthropist. He is a co-founder of Microsoft, along with his late childhood friend Paul Allen.[3] During his career at Microsoft, Gates held the positions of chairman, chief executive officer (CEO), president and chief software architect, while also being the largest individual shareholder until May 2014.[4] He was a major entrepreneur of the microcomputer revolution of the 1970s and 1980s.\\n\\nGates was born and raised in Seattle, Washington. In 1975, he and Allen founded Microsoft in Albuquerque, New Mexico. It became the world\\'s largest personal computer software company.[5][a] Gates led the company as chairman and CEO until stepping down as CEO in January 2000, succeeded by Steve Ballmer, but he remained chairman of the board of directors and became chief software architect.[8] During the late 1990s, he was criticized for his business tactics, which have been considered anti-competitive. This opinion has been upheld by numerous court rulings. In June 2008, Gates transitioned to a part-time role at Microsoft and full-time work at the Bill & Melinda Gates Foundation, the private charitable foundation he and his then-wife, Melinda Gates, established in 2000.[10] He stepped down as chairman of the board of Microsoft in February 2014 and assumed a new post as technology adviser to support the newly appointed CEO Satya Nadella.[11] In March 2020, Gates left his board positions at Microsoft and Berkshire Hathaway to focus on his philanthropic efforts on climate change, global health and development, and education.[12]\\n\\nSince 1987, Gates has been included in the Forbes list of the world\\'s wealthiest people.[13][14] From 1995 to 2017, he held the Forbes title of the richest person in the world every year except from 2010 to 2013.[15] In October 2017, he was surpassed by Amazon founder and CEO Jeff Bezos, who had an estimated net worth of US$90.6 billion compared to Gates\\'s net worth of US$89.9 billion at the time.[16] As of September 2022, Gates had an estimated net worth of US$114 billion, making him the fifth-richest person in the world.[17]\\n\\nLater in his career and since leaving day-to-day operations at Microsoft in 2008, Gates has pursued many business and philanthropic endeavors. He is the founder and chairman of several companies, including BEN, Cascade Investment, bgC3, and TerraPower. He has given sizable amounts of money to various charitable organizations and scientific research programs through the Bill & Melinda Gates Foundation, reported to be the world\\'s largest private charity.[18] Through the foundation, he led an early 21st century vaccination campaign that significantly contributed to the eradication of the wild poliovirus in Africa.[19][20] In 2010, Gates and Warren Buffett founded The Giving Pledge, whereby they and other billionaires pledge to give at least half of their wealth to philanthropy.[21]\\n\\nBill Gates was born in Seattle, Washington on October 28, 1955.[3] He is the son of William H. Gates Sr.[b] (1925–2020) and Mary Maxwell Gates (1929–1994).[22] His ancestry includes English, German, and Irish/Scots-Irish.[23] His father was a prominent lawyer, and his mother served on the board of directors for First Interstate BancSystem and the United Way of America. Gates\\'s maternal grandfather was J. W. Maxwell, a national bank president. Gates has an older sister Kristi (Kristianne) and a younger sister Libby. He is the fourth of his name in his family but is known as William Gates III or \"Trey\" (i.e., three) because his father had the \"II\" suffix.[25] The family lived in the Sand Point area of Seattle in a home that was damaged by a rare tornado when Gates was seven years old.[26]\\n\\nEarly in his life, Gates observed that his parents wanted him to pursue a law career. When he was young, his family regularly attended a church of the Congregational Christian Churches, a Protestant Reformed denomination.[28][29][30] Gates was small for his age and was bullied as a child.[25] The family encouraged competition; one visitor reported that \"it didn\\'t matter whether it was hearts or pickleball or swimming to the dock; there was always a reward for winning and there was always a penalty for losing\".[31]\\n\\nAt 13, he enrolled in the private Lakeside prep school,[33] where he wrote his first software program.[34] When he was in the eighth grade, the Mothers\\' Club at the school used proceeds from Lakeside School\\'s rummage sale to buy a Teletype Model 33 ASR terminal and a block of computer time on a General Electric (GE) computer for the students. Gates took an interest in programming the GE system in BASIC, and he was excused from math classes to pursue his interest. He wrote his first computer program on this machine, an implementation of tic-tac-toe that allowed users to play games against the computer. Gates was fascinated by the machine and how it would always execute software code perfectly. After the Mothers Club donation was exhausted, Gates and other students sought time on systems including DEC PDP minicomputers. One of these systems was a PDP-10 belonging to Computer Center Corporation (CCC) which banned Gates, Paul Allen, Ric Weiland, and Gates\\'s best friend and first business partner Kent Evans, for the summer after it caught them exploiting bugs in the operating system to obtain free computer time.[25]\\n\\nThe four students formed the Lakeside Programmers Club to make money.[25] At the end of the ban, they offered to find bugs in CCC\\'s software in exchange for extra computer time. Rather than using the system remotely via Teletype, Gates went to CCC\\'s offices and studied source code for various programs that ran on the system, including Fortran, Lisp, and machine language. The arrangement with CCC continued until 1970 when the company went out of business.\\n\\nThe following year, a Lakeside teacher enlisted Gates and Evans to automate the school\\'s class-scheduling system, providing them computer time and royalties in return. The duo worked diligently in order to have the program ready for their senior year. Towards the end of their junior year, Evans was killed in a mountain climbing accident, which Gates has described as one of the saddest days of his life. Gates then turned to Allen who helped him finish the system for Lakeside.[25]\\n\\nAt 17, Gates formed a venture with Allen called Traf-O-Data to make traffic counters based on the Intel 8008 processor. In 1972, he served as a congressional page in the House of Representatives.[39][40] He was a National Merit Scholar when he graduated from Lakeside School in 1973.[41] He scored 1590 out of 1600 on the Scholastic Aptitude Tests (SAT) and enrolled at Harvard College in the autumn of 1973.[42] He chose a pre-law major but took mathematics and graduate level computer science courses.[44] While at Harvard, he met fellow student Steve Ballmer. Gates left Harvard after two years while Ballmer stayed and graduated magna cum laude. Years later, Ballmer succeeded Gates as Microsoft\\'s CEO and maintained that position from 2000 until his resignation in 2014.[45][46]\\n\\nGates devised an algorithm for pancake sorting as a solution to one of a series of unsolved problems[47] presented in a combinatorics class by professor Harry Lewis. His solution held the record as the fastest version for over 30 years, and its successor is faster by only 2%.[47][48] His solution was formalized and published in collaboration with Harvard computer scientist Christos Papadimitriou.[49]\\n\\nGates remained in contact with Paul Allen and joined him at Honeywell during the summer of 1974. In 1975, the MITS Altair 8800 was released based on the Intel 8080 CPU, and Gates and Allen saw the opportunity to start their own computer software company. Gates dropped out of Harvard that same year. His parents were supportive of him after seeing how much he wanted to start his own company. He explained his decision to leave Harvard: \"if things hadn\\'t worked out, I could always go back to school. I was officially on leave.\"[53]\\n\\nGates read the January 1975 issue of Popular Electronics which demonstrated the Altair 8800, and he contacted Micro Instrumentation and Telemetry Systems (MITS) to inform them that he and others were working on a BASIC interpreter for the platform.[54] In reality, Gates and Allen did not have an Altair and had not written code for it; they merely wanted to gauge MITS\\'s interest. MITS president Ed Roberts agreed to meet them for a demonstration, and over the course of a few weeks they developed an Altair emulator that ran on a minicomputer, and then the BASIC interpreter. The demonstration was held at MITS\\'s offices in Albuquerque, New Mexico; it was a success and resulted in a deal with MITS to distribute the interpreter as Altair BASIC. MITS hired Allen,[55] and Gates took a leave of absence from Harvard to work with him at MITS in November 1975. Allen named their partnership \"Micro-Soft\", a combination of \"microcomputer\" and \"software\", and their first office was in Albuquerque. The first employee Gates and Allen hired was their high school collaborator Ric Weiland.[55] They dropped the hyphen within a year and officially registered the trade name \"Microsoft\" with the Secretary of the State of New Mexico on November 26, 1976.[55] Gates never returned to Harvard to complete his studies.\\n\\nMicrosoft\\'s Altair BASIC was popular with computer hobbyists, but Gates discovered that a pre-market copy had leaked out and was being widely copied and distributed. In February 1976, he wrote an Open Letter to Hobbyists in the MITS newsletter in which he asserted that more than 90% of the users of Microsoft Altair BASIC had not paid Microsoft for it and the Altair \"hobby market\" was in danger of eliminating the incentive for any professional developers to produce, distribute, and maintain high-quality software. This letter was unpopular with many computer hobbyists, but Gates persisted in his belief that software developers should be able to demand payment. Microsoft became independent of MITS in late 1976, and it continued to develop programming language software for various systems.[55] The company moved from Albuquerque to Bellevue, Washington on January 1, 1979.[54]\\n\\nGates said he personally reviewed and often rewrote every line of code that the company produced in its first five years. As the company grew, he transitioned into a manager role, then an executive.[57]\\n\\nDONKEY.BAS, is a computer game written in 1981 and included with early versions of the PC DOS operating system distributed with the original IBM PC. It is a driving game in which the player must avoid hitting donkeys. The game was written by Gates and Neil Konzen.[58][59]\\n\\nIBM, the leading supplier of computer equipment to commercial enterprises at the time, approached Microsoft in July 1980 concerning software for its upcoming personal computer, the IBM PC,[60] after Bill Gates\\'s mother, Mary Maxwell Gates, mentioned Microsoft to John Opel, IBM\\'s CEO.[61] IBM first proposed that Microsoft write the BASIC interpreter. IBM\\'s representatives also mentioned that they needed an operating system, and Gates referred them to Digital Research (DRI), makers of the widely used CP/M operating system.[62] IBM\\'s discussions with Digital Research went poorly, however, and they did not reach a licensing agreement. IBM representative Jack Sams mentioned the licensing difficulties during a subsequent meeting with Gates and asked if Microsoft could provide an operating system. A few weeks later, Gates and Allen proposed using 86-DOS, an operating system similar to CP/M, that Tim Paterson of Seattle Computer Products (SCP) had made for hardware similar to the PC.[63] Microsoft made a deal with SCP to be the exclusive licensing agent of 86-DOS, and later the full owner. Microsoft employed Paterson to adapt the operating system for the PC[64] and delivered it to IBM as PC DOS for a one-time fee of $50,000.\\n\\nThe contract itself only earned Microsoft a relatively small fee. It was the prestige brought to Microsoft by IBM\\'s adoption of their operating system that would be the origin of Microsoft\\'s transformation from a small business to the leading software company in the world. Gates had not offered to transfer the copyright on the operating system to IBM because he believed that other personal computer makers would clone IBM\\'s PC hardware. They did, making the IBM-compatible PC, running DOS, a de facto standard. The sales of MS-DOS (the version of DOS sold to customers other than IBM) made Microsoft a major player in the industry. The press quickly identified Microsoft as being very influential on the IBM PC. PC Magazine asked if Gates was \"the man behind the machine?\".[60]\\n\\nGates oversaw Microsoft\\'s company restructuring on June 25, 1981, which re-incorporated the company in Washington state and made Gates the president and chairman of the board, with Paul Allen as vice president and vice chairman. In early 1983, Allen left the company after receiving a Hodgkin lymphoma diagnosis, effectively ending the formal business partnership between Gates and Allen, which had been strained months prior due to a contentious dispute over Microsoft equity.[54][67] Later in the decade, Gates repaired his relationship with Allen and together the two donated millions to their childhood school Lakeside.[25] They remained friends until Allen\\'s death in October 2018.[68]\\n\\nMicrosoft and Gates launched their first retail version of Microsoft Windows on November 20, 1985, in an attempt to fend off competition from Apple\\'s Macintosh GUI, which had bewitched consumers with its simplicity and ease of use.[69] In August of the following year, the company struck a deal with IBM to develop a separate operating system called OS/2. Although the two companies successfully developed the first version of the new system, the partnership deteriorated due to mounting creative differences.[70] The operating system grew out of DOS in an organic fashion over a decade, until with Windows 95 the DOS text screen was relegated to the closet. Windows XP, released one year after Gates stepped down as Microsoft CEO, reportedly was the first to not be based on DOS.[71] Windows 8.1 was the last version of the OS released before Gates left the chair of the firm to John W. Thompson on February 5, 2014.[72]\\n\\nGates had primary responsibility for Microsoft\\'s product strategy from the company\\'s founding from 1975 until 2006. He gained a reputation for being distant from others; an industry executive complained in 1981 that \"Gates is notorious for not being reachable by phone and for not returning phone calls.\"[73] An Atari executive recalled that he showed Gates a game and defeated him 35 of 37 times. When they met again a month later, Gates \"won or tied every game. He had studied the game until he solved it. That is a competitor\".[74]\\n\\nIn the early 1980s, while business partner Paul Allen was undergoing treatments for cancer, Gates — according to Allen — conspired to reduce Allen\\'s share in Microsoft by issuing himself stock options.[75][76][77] In his autobiography, Allen would later recall that Gates was \"scheming to rip me off. It was mercenary opportunism plain and simple\".[75] Gates says he remembers the episode differently.[76] Allen would also recall that Gates was prone to shouting episodes.[77]\\n\\nGates met regularly with Microsoft\\'s senior managers and program managers, and the managers described him as being verbally combative. He also berated them for perceived holes in their business strategies or proposals that placed the company\\'s long-term interests at risk.[78][79] He interrupted presentations with such comments as \"that\\'s the stupidest thing I\\'ve ever heard\"[80] and \"why don\\'t you just give up your options and join the Peace Corps?\"[81] The target of his outburst would then have to defend the proposal in detail until Gates was fully convinced.[80] When subordinates appeared to be procrastinating, he was known to remark sarcastically, \"I\\'ll do it over the weekend.\"[82][83][84] Gates has been accused of bullying Microsoft employees.[85]\\n\\nDuring Microsoft\\'s early years, Gates was an active software developer, particularly in the company\\'s programming language products, but his primary role in most of the company\\'s history was as a manager and executive. He has not officially been on a development team since working on the TRS-80 Model 100,[86] but he wrote code that shipped with the company\\'s products as late as 1989.[83] Jerry Pournelle wrote in 1985 when Gates announced Microsoft Excel: \"Bill Gates likes the program, not because it\\'s going to make him a lot of money (although I\\'m sure it will do that), but because it\\'s a neat hack.\"[87]\\n\\nOn June 15, 2006, Gates announced that he would transition out of his role at Microsoft to dedicate more time to philanthropy. He gradually divided his responsibilities between two successors when he placed Ray Ozzie in charge of management and Craig Mundie in charge of long-term product strategy.[88] The process took two years to fully transfer his duties to Ozzie and Mundie, and was completed on June 27, 2008.[89]\\n\\nGates approved of many decisions that led to antitrust litigation over Microsoft\\'s business practices. In the 1998 United States v. Microsoft case, Gates gave deposition testimony that several journalists characterized as evasive. He argued with examiner David Boies over the contextual meaning of words such as \"compete\", \"concerned\", and \"we\". Later in the year, when portions of the videotaped deposition were played back in court, the judge was seen laughing and shaking his head.[90] BusinessWeek reported:\\n\\nGates later said that he had simply resisted attempts by Boies to mischaracterize his words and actions. \"Did I fence with Boies? ... I plead guilty ... rudeness to Boies in the first degree.\"[92] Despite Gates\\'s denials, the judge ruled that Microsoft had committed monopolization, tying and blocking competition, each in violation of the Sherman Antitrust Act.[92]\\n\\nSince leaving day-to-day operations at Microsoft, Gates has continued his philanthropy and works on other projects.\\n\\nAccording to the Bloomberg Billionaires Index, Gates was the world\\'s highest-earning billionaire in 2013, as his net worth increased by US$15.8 billion to US$78.5 billion. As of January 2014 , most of Gates\\'s assets are held in Cascade Investment LLC, an entity through which he owns stakes in numerous businesses, including Four Seasons Hotels and Resorts, and Corbis Corp.[93] On February 4, 2014, Gates stepped down as chairman of Microsoft to become \"technology advisor\" at the firm, alongside CEO Satya Nadella.[11][94]\\n\\nGates provided his perspective on a range of issues in a substantial interview that was published in the March 27, 2014, issue of Rolling Stone magazine. In the interview, Gates provided his perspective on climate change, his charitable activities, various tech companies and people involved in them, and the state of America. In response to a question about his greatest fear when he looks 50 years into the future, Gates stated: \"there\\'ll be some really bad things that\\'ll happen in the next 50 or 100 years, but hopefully none of them on the scale of, say, a million people that you didn\\'t expect to die from a pandemic, or nuclear or bioterrorism.\" Gates also identified innovation as the \"real driver of progress\" and pronounced that \"America\\'s way better today than it\\'s ever been.\"[95]\\n\\nGates has expressed concern about the potential harms of superintelligence; in a Reddit \"ask me anything\", he stated that:\\n\\nIn an interview that was held at the TED conference in March 2015, with Baidu\\'s CEO, Robin Li, Gates said he would \"highly recommend\" Nick Bostrom\\'s recent work, Superintelligence: Paths, Dangers, Strategies.[100] During the conference, Gates warned that the world was not prepared for the next pandemic, a situation that would come to pass in late 2019 when the COVID-19 pandemic began.[101] In March 2018, Gates met at his home in Seattle with Mohammed bin Salman, the reformist crown prince and de facto ruler of Saudi Arabia to discuss investment opportunities for Saudi Vision 2030.[102][103] In June 2019, Gates admitted that losing the mobile operating system race to Android was his biggest mistake. He stated that it was within their skill set of being the dominant player, but partially blames the antitrust litigation during the time.[104] That same year, Gates became an advisory board member of the Bloomberg New Economy Forum.[105]\\n\\nOn March 13, 2020, Microsoft announced Gates would be leaving his board positions at Berkshire Hathaway and Microsoft to dedicate his efforts in philanthropic endeavors such as climate change, global health and development, and education.[12]\\n\\nDuring the COVID-19 pandemic, Gates has widely been looked at by media outlets as an expert on the issue, despite him not being a public official or having any prior medical training.[106] His foundation did, however, establish the COVID-19 Therapeutics Accelerator in 2020 to hasten the development and evaluation of new and repurposed drugs and biologics to treat patients for COVID-19,[107] and, as of February 2021, Gates expressed that he and Anthony Fauci frequently talk and collaborate on matters including vaccines and other medical innovations to fight the pandemic.[108]\\n\\nGates has a multi-billion dollar investment portfolio with stake in various sectors[109] and has participated in several entrepreneurial ventures beyond Microsoft, including:\\n• AutoNation, automotive retailer that Gates has a 16% stake in trading on the NYSE.[ ]\\n• Canadian National Railway (CN), a Canadian Class I freight railway. As of 2019, Gates is the largest single shareholder of CN stock.[111]\\n• Cascade Investment LLC, a private investment and holding company incorporated in the United States, founded and controlled by Gates and headquartered in Kirkland, Washington.[112]\\n• Gates is the top private owner of farmland in the United States with landholdings owned via Cascade Investment totalling 242,000 acres across 19 states.[113][114] He is the 49th largest private owner of land in the US.[115]\\n• Carbon Engineering, a for-profit venture founded by David Keith, which Gates helped fund.[116][117][118] It\\'s is also supported by Chevron Corporation and Occidental Petroleum.[119]\\n• SCoPEx, Keith\\'s academic venture in \"sun-dimming\" geoengineering, which Gates provided most of the $12 million for.[120]\\n• Corbis (originally named Interactive Home Systems and now known as Branded Entertainment Network), a digital image licensing and rights services company founded and chaired by Gates.[121]\\n• EarthNow, Seattle-based startup company aiming to blanket the Earth with live satellite video coverage. Gates is a large financial backer.[122]\\n• Eclipse Aviation, a defunct manufacturer of very light jets. Gates was a major stake-holder early on in the project.[ ]\\n• Impossible Foods, a company that develops plant-based substitutes for meat products. Some of the $396 million Patrick O. Brown collected for his business came from Gates around 2014 to 2017.[123][124][125]\\n• Ecolab, global provider of water, hygiene and energy technologies and services to the food, energy, healthcare, industrial and hospitality markets. Combined with the shares owned by the Foundation, Gates owns 11.6% of the company. A shareholder agreement in 2012 allowed him to own up to 25% of the company, but this agreement was removed.[126]\\n• ResearchGate, a social networking site for scientists. Gates participated in a $35 million round of financing along with other investors.[127]\\n• TerraPower, a nuclear reactor design company co-founded and chaired by Gates, which is developing next generation traveling-wave reactor nuclear power plants in an effort to tackle climate change.[128][129][130][131][132]\\n• Breakthrough Energy Ventures, a closed fund for wealthy individuals who seek ROI on a 20-year horizon (see next section), which \"is funding green start-ups and a host of other low-carbon entrepreneurial projects, including everything from advanced nuclear technology to synthetic breast milk.\" It was founded by Gates in 2015.[133]\\n• Ginkgo Bioworks, a biotech startup that received $350 million in venture funding in 2019, in part from Gates\\'s investment firm Cascade Investment.[134]\\n• Mologic, British diagnostic technology company that Gates purchased, along with the Soros Economic Development Fund, \"which has developed 10-minute Covid lateral flow tests that it aims to make for as little as $1.\"[135]\\n\\nGates considers climate change and global access to energy to be critical, interrelated issues. He has urged governments and the private sector to invest in research and development to make clean, reliable energy cheaper. Gates envisions that a breakthrough innovation in sustainable energy technology could drive down both greenhouse gas emissions and poverty, and bring economic benefits by stabilizing energy prices.[136] In 2011, he said: \"If you gave me the choice between picking the next 10 presidents or ensuring that energy is environmentally friendly and a quarter as costly, I\\'d pick the energy thing.\"[137]\\n\\nIn 2015, he wrote about the challenge of transitioning the world\\'s energy system from one based primarily on fossil fuels to one based on sustainable energy sources. Global energy transitions have historically taken decades. He wrote, \"I believe we can make this transition faster, both because the pace of innovation is accelerating, and because we have never had such an urgent reason to move from one source of energy to another.\"[138] This rapid transition, according to Gates, would depend on increased government funding for basic research and financially risky private-sector investment, to enable innovation in diverse areas such as nuclear energy, grid energy storage to facilitate greater use of solar and wind energy, and solar fuels.[139]\\n\\nGates spearheaded two initiatives that he announced at the 2015 United Nations Climate Change Conference in Paris. One was Mission Innovation, in which 20 national governments pledged to double their spending on research and development for carbon-free energy in over five years\\' time.[136] Another initiative was Breakthrough Energy, a group of investors who agreed to fund high-risk startups in clean energy technologies. Gates, who had already invested $1 billion of his own money in innovative energy startups, committed a further $1 billion to Breakthrough Energy.[139] In December 2020, he called for the U.S. federal government to create institutes for clean energy research, analogous to the National Institutes of Health.[140] Gates has also urged rich nations to shift to 100% synthetic beef industries to reduce greenhouse gas emissions from food production.[141]\\n\\nGates has been criticised for holding a large stake in Signature Aviation, a company that services emissions-intensive private jets.[142] In 2019, he began to divest from fossil fuels. He does not expect divestment itself to have much practical impact, but says that if his efforts to provide alternatives were to fail, he would not want to personally benefit from an increase in fossil fuel stock prices.[143] After he published his book How to Avoid a Climate Disaster, parts of the climate activist community criticized Gate\\'s approach as technological solutionism.[144]\\n\\nIn June 2021, Gates\\'s company TerraPower and Warren Buffett\\'s PacifiCorp announced the first sodium nuclear reactor in Wyoming. Wyoming Governor Mike Gordon hailed the project as a step toward carbon-negative nuclear power. Wyoming Senator John Barrasso also said that it could boost the state\\'s once-active uranium mining industry.[145]\\n\\nGates spent many efforts to make pass the Inflation Reduction Act of 2022 because of his importance to climate. He tried to convince Joe Manchin to support a climate bill from the year 2019 and especially in the months before the adoption of the bill. The bill should cut the global greenhouse gas emissions in a level similar to \"eliminating the annual planet-warming pollution of France and Germany combined\" and may help to limit the warming of the planet to 1.5 degrees - the target of the Paris Agreement.[146]\\n\\nIn 1998, Gates rejected the need for regulation of the software industry in testimony before the United States Senate.[147] During the Federal Trade Commission\\'s (FTC) investigation of Microsoft in the 1990s, Gates was reportedly upset at Commissioner Dennis Yao for \"float[ing] a line of hypothetical questions suggesting possible curbs on Microsoft\\'s growing monopoly power\". According to one source:\\n\\nOn February 18, 2021, after Facebook and Twitter had banned Donald Trump from their platforms as a result of the 2020 United States presidential election which led to the January 6 United States Capitol attack, Gates said a permanent ban of Trump \"would be a shame\" and would be an \"extreme measure\". He warned that it would cause \"polarization\" if users with different political views divide up among various social networks, and said: \"I don\\'t think banning somebody who actually did get a fair number of votes (in the presidential election) – well less than a majority – but I don\\'t think having him off forever would be that good.\"[147]\\n\\nIn April 2021, during the COVID-19 pandemic, Gates was criticized for suggesting that pharmaceutical companies should hold onto patents for COVID-19 vaccines. The criticism came due to the possibility of this preventing poorer nations from obtaining adequate vaccines. Tara Van Ho of the University of Essex stated, \"Gates speaks as if all the lives being lost in India are inevitable but eventually the West will help when in reality the US & UK are holding their feet on the neck of developing states by refusing to break [intellectual property rights] protections. It\\'s disgusting.\"[149]\\n\\nBill Gates is opposed to the TRIPS waiver.[150][151][152] Bloomberg News reported him as saying he argued that Oxford University should not give away the rights to its COVID-19 information, as it had announced, but instead sell it to a single industry partner, as it did.[153] His views on the value of legal monopolies in medicine have been linked to his views on legal monopolies in software.[151][152]\\n\\nBill Gates is critical of cryptocurrencies like Bitcoin. According to Gates, cryptocurrencies provide no \"valuable output\", contribute nothing to society, and pose a danger especially for smaller investors who couldn\\'t survive the potentially high losses. Gates also doesn\\'t own any cryptocurrencies himself.[154]\\n\\nGates studied the work of Andrew Carnegie and John D. Rockefeller, and donated some of his Microsoft stock in 1994 to create the \"William H. Gates Foundation\". In 2000, Gates and his wife combined three family foundations and Gates donated stock valued at $5 billion to create the charitable Bill & Melinda Gates Foundation, which was identified by the Funds for NGOs company in 2013, as the world\\'s wealthiest charitable foundation, with assets reportedly valued at more than $34.6 billion.[155][156] The foundation allows benefactors to access information that shows how its money is being spent, unlike other major charitable organizations such as the Wellcome Trust.[157][158] Gates, through his foundation, also donated $20 million to Carnegie Mellon University for a new building to be named Gates Center for Computer Science which opened in 2009.[159][160]\\n\\nGates has credited the generosity and extensive philanthropy of David Rockefeller as a major influence. Gates and his father met with Rockefeller several times, and their charity work is partly modeled on the Rockefeller family\\'s philanthropic focus, whereby they are interested in tackling the global problems that are ignored by governments and other organizations.[161] As of 2007 , Bill and Melinda Gates were the second-most generous philanthropists in America, having given over $28 billion to charity;[162] the couple plan to eventually donate 95% of their wealth to charity.[163]\\n\\nThe foundation is organized into five program areas: Global Development Division, Global Health Division, United States Division, and Global Policy & Advocacy Division. Among others, it supports a wide range of public health projects, granting aid to fight transmissible diseases such AIDS, tuberculosis and malaria, as well as widespread vaccine programs to eradicate polio. It grants funds to learning institutes and libraries and supports scholarships at universities. The foundation established a water, sanitation and hygiene program to provide sustainable sanitation services in poor countries.[164] Its agriculture division supports the International Rice Research Institute in developing Golden Rice, a genetically modified rice variant used to combat vitamin A deficiency.[165] The goal of the foundation is to provide 120 million women and girls, in the poorest countries, with high-quality contraceptive information and services, with the longer-term goal of universal access to voluntary family planning.[166] In 2007, the Los Angeles Times criticized the foundation for investing its assets in companies that have been accused of worsening poverty, pollution and pharmaceutical firms that do not sell to developing countries.[167] Although the foundation announced a review of its investments to assess social responsibility,[168] it was subsequently canceled and upheld its policy of investing for maximum return, while using voting rights to influence company practices.[169]\\n\\nGates delivered his thoughts in a fireside chat moderated by journalist and news anchor Shereen Bhan virtually at the Singapore FinTech Festival on December 8, 2020, on the topic, \"Building Infrastructure for Resilience: What the COVID-19 Response Can Teach Us About How to Scale Financial Inclusion\".[170]\\n\\nGates favours the normalization of COVID-19 masks. In a November 2020 interview, he said: \"What are these, like, nudists? I mean, you know, we ask you to wear pants, and no American says, or very few Americans say, that that\\'s, like, some terrible thing.\"[171]\\n\\nMelinda Gates suggested that people should emulate the philanthropic efforts of the Salwen family, who sold their home and gave away half of its value, as detailed in their book, The Power of Half.[172] Gates and his wife invited Joan Salwen to Seattle to speak about what the family had done, and on December 9, 2010, Bill and Melinda Gates and investor Warren Buffett each signed a commitment they called the \"Giving Pledge\", which is a commitment by all three to donate at least half of their wealth, over the course of time, to charity.[173][174][175]\\n\\nGates has also provided personal donations to educational institutions. In 1999, Gates donated $20 million to the Massachusetts Institute of Technology for the construction of a computer laboratory named the \"William H. Gates Building\" that was designed by architect Frank Gehry. While Microsoft had previously given financial support to the institution, this was the first personal donation received from Gates.[176]\\n\\nThe Maxwell Dworkin Laboratory of the Harvard John A. Paulson School of Engineering and Applied Sciences is named after the mothers of both Gates and Microsoft President Steven A. Ballmer, both of whom were students (Ballmer was a member of the school\\'s graduating class of 1977, while Gates left his studies for Microsoft), and donated funds for the laboratory\\'s construction.[177] Gates also donated $6 million to the construction of the Gates Computer Science Building, completed in January 1996, on the campus of Stanford University. The building contains the Computer Science Department and the Computer Systems Laboratory (CSL) of Stanford\\'s Engineering department.[178]\\n\\nSince 2005, Gates and his foundation have taken an interest in solving global sanitation problems. For example, they announced the \"Reinvent the Toilet Challenge\", which has received considerable media interest.[179] To raise awareness for the topic of sanitation and possible solutions, Gates drank water that was \"produced from human feces\" in 2014 – it was produced from a sewage sludge treatment process called the Omni Processor.[180][181] In early 2015, he also appeared with Jimmy Fallon on The Tonight Show and challenged him to see if he could taste the difference between this reclaimed water or bottled water.[182]\\n\\nIn November 2017, Gates said he would give $50 million to the Dementia Discovery Fund, a venture capital fund that seeks treatment for Alzheimer\\'s disease. He also pledged an additional $50 million to start-up ventures working in Alzheimer\\'s research.[183] Bill and Melinda Gates have said that they intend to leave their three children $10 million each as their inheritance. With only $30 million kept in the family, they are expected to give away about 99.96% of their wealth.[184] On August 25, 2018, Gates distributed $600,000 through his foundation via UNICEF which is helping flood affected victims in Kerala, India.[185]\\n\\nIn June 2018, Bill Gates offered free ebooks, to all new graduates of U.S. colleges and universities,[186] and in 2021, offered free ebooks, to all college and university students around the world.[187][188] The Bill And Melinda Gates Foundation partially funds OpenStax, which creates and provides free digital textbooks.[189]\\n\\nOn April 29, 2017, Gates partnered with Swiss tennis legend Roger Federer in playing in the Match for Africa 4, a noncompetitive tennis match at a sold-out Key Arena in Seattle. The event was in support of the Roger Federer Foundation\\'s charity efforts in Africa.[190] Federer and Gates played against John Isner, the top-ranked American player for much of this decade, and Mike McCready, the lead guitarist for Pearl Jam. The pair won the match 6 games to 4. Overall, they raised $2 million for children in Africa.[191] The following year, Gates and Federer returned to play in the Match for Africa 5 on March 5, 2018, at San Jose\\'s SAP Center. Their opponents were Jack Sock, one of the top American players and a grand slam winner in doubles, and Savannah Guthrie, a co-anchor for NBC\\'s Today show. Gates and Federer recorded their second match victory together by a score of 6–3 and the event raised over $2.5 million.[192]\\n• The Road Ahead, written with Microsoft executive Nathan Myhrvold and journalist Peter Rinearson, was published in November 1995. It summarized the implications of the personal computing revolution and described a future profoundly changed by the arrival of a global information superhighway.\\n• Business @ the Speed of Thought was published in 1999, and discusses how business and technology are integrated, and shows how digital infrastructures and information networks can help to get an edge on the competition.\\n• How to Avoid a Climate Disaster (February 2021) presents what Gates learned in over a decade of studying climate change and investing in innovations to address climate problems.[193]\\n• How to Prevent the Next Pandemic (April 2022) details the COVID-19 pandemic and proposes a \"Global Epidemic Response and Mobilization\" (GERM) team with annual funding of $1 billion,[194] under the auspices of the WHO.[195]\\n\\nGates is an avid reader,[196] and the ceiling of his large home library is engraved with a quotation from The Great Gatsby.[197] He also enjoys bridge, tennis and golf.[198][199] His days are planned for him on a minute-by-minute basis, similarly to the U.S. president\\'s schedule.[200] Despite his wealth and extensive business travel, Gates flew coach (economy class) in commercial aircraft until 1997, when he bought a private jet.[201]\\n\\nGates purchased the Codex Leicester, a collection of scientific writings by Leonardo da Vinci, for US$30.8 million at an auction in 1994.[202] In 1998, he reportedly paid $30 million for the original 1885 maritime painting Lost on the Grand Banks, at the time a record price for an American painting.[203]\\n\\nIn 2016, he revealed that he was color-blind.[204]\\n\\nOn May 10, 2022, Gates said that he tested positive for COVID-19 and was experiencing mild symptoms.[205] Gates has received three doses of the COVID-19 vaccine.[205]\\n\\nGates married Melinda French on the Hawaiian Island of Lanai on January 1, 1994.[206] They met in 1987 after Melinda began working at Microsoft.[207] At the time of their marriage, Gates was given permission by Melinda to spend limited time with his ex-girlfriend, businesswoman Ann Winblad.[208] Bill and Melinda have three children: Jennifer, Rory and Phoebe.[209] The family\\'s residence is an earth-sheltered mansion in the side of a hill overlooking Lake Washington in Medina, Washington. In 2009, property taxes on the mansion were reported to be US$1.063 million, on a total assessed value of US$147.5 million.[210] The 66,000-square-foot (6,100 m2) estate has a 60-foot (18 m) swimming pool with an underwater music system, as well as a 2,500-square-foot (230 m2) gym and a 1,000-square-foot (93 m2) dining room.[211] On May 3, 2021, the Gateses announced they had decided to divorce after 27 years of marriage and 34 years as a couple.[212] They said they would keep working together on charitable efforts.[212][213] The Wall Street Journal reported that Melinda had been meeting with divorce attorneys since 2019, citing interviews that suggested Bill\\'s ties with Jeffrey Epstein was at least one of her concerns.[214] The divorce was finalized on August 2, 2021.[215]\\n\\nA New York Times article reported that Gates\\'s relationship with convicted sex offender Jeffrey Epstein started in 2011, just a few years after Epstein\\'s conviction, and continued for some years, including a visit to Epstein\\'s house with Melinda in the fall of 2013, despite her declared discomfort.[216] Gates said in 2011 about Epstein: \"His lifestyle is very different and kind of intriguing although it would not work for me\".[217]\\n\\nThe depth of the friendship between Gates and Epstein is unclear. Gates generally commented about his relationship with Epstein that \"I met him. I didn\\'t have any business relationship or friendship with him\".[218] However, Gates visited Epstein \"many times, despite [Epstein\\'s] past\".[216]\\n\\nIt was reported that Epstein and Gates \"discussed the Gates Foundation and philanthropy\".[216] However, in an interview in 2019 Gates completely denied any connection between Epstein and the Gates Foundation or his philanthropy generally.[218] In August 2021, Gates said the reason he had meetings with Epstein was because Gates hoped Epstein could provide money for philanthropic work, though nothing came of the idea. Gates added, \"It was a huge mistake to spend time with him, to give him the credibility of being there.\"[85]\\n\\nIt has also been reported that Epstein and Gates met with Nobel Committee chair Thorbjørn Jagland at his residence in Strasbourg, France in March 2013 to discuss the Nobel Prize.[219] Also in attendance were representatives of the International Peace Institute which has received millions in grants from the Gates Foundation, including a $2.5 million \"community engagement\" grant in October 2013.[220]\\n\\nGates\\'s public image has changed over the years. At first he was perceived as a brilliant but ruthless \"robber baron\", a \"nerd-turned-tycoon\".[221] Starting in 2000 with the foundation of the Bill and Melinda Gates Foundation, and particularly after he stepped down as head of Microsoft, he turned his attention to philanthropy, spending more than $50 billion on causes like health, poverty, and education. His image morphed from \"tyrannical technocrat to saintly savior\" to a \"huggable billionaire techno-philanthropist\", celebrated on magazine covers and sought after for his opinions on major issues like global health and climate change.[221] Still another shift in public opinion came in 2021 with the announcement that he and Melinda were divorcing. Coverage of that proceeding brought out information about romantic pursuits of women who worked for him, a long-term extra-marital affair, and a friendship with convicted sex offender Jeffrey Epstein.[217] This information and his response to the COVID-19 pandemic resulted in some deterioration of his public image, going from \"a lovable nerd who was out to save the world.\" to \"a tech supervillain who wants to protect profits over public health.\"[222]\\n\\nInvestigative journalist Tim Schwab has accused Gates of using his contributions to the media to shape their coverage of him in order to protect his public image.[106][223]\\n\\nIn an interview with Rolling Stone, Gates said in regard to his faith: \"The moral systems of religion, I think, are super important. We\\'ve raised our kids in a religious way; they\\'ve gone to the Catholic church that Melinda goes to and I participate in. I\\'ve been very lucky, and therefore I owe it to try and reduce the inequity in the world. And that\\'s kind of a religious belief. I mean, it\\'s at least a moral belief.\"[224] In the same 2014 interview he also said: \"I agree with people like Richard Dawkins that mankind felt the need for creation myths. Before we really began to understand disease and the weather and things like that, we sought false explanations for them. Now science has filled in some of the realm – not all – that religion used to fill. But the mystery and the beauty of the world is overwhelmingly amazing, and there\\'s no scientific explanation of how it came about. To say that it was generated by random numbers, that does seem, you know, sort of an uncharitable view [laughs]. I think it makes sense to believe in God, but exactly what decision in your life you make differently because of it, I don\\'t know.\"[224]\\n\\nIn 1999, his wealth briefly surpassed US$101 billion.[225][201] Since 2000, the nominal value of his Microsoft holdings has declined due to a fall in Microsoft\\'s stock price after the dot-com bubble burst and the multi-billion dollar donations he has made to his charitable foundations. In May 2006, Gates remarked that he wished that he were not the richest man in the world because he disliked the attention it brought.[226] In March 2010, Gates was the second wealthiest person after Carlos Slim, but regained the top position in 2013, according to the Bloomberg Billionaires List.[227][228] Slim retook the position again in June 2014[229][230] (but then lost the top position back to Gates). Between 2009 and 2014, his wealth doubled from US$40 billion to more than US$82 billion.[231] In October 2017, Gates was surpassed by Amazon founder Jeff Bezos as the richest person in the world.[16] On November 15, 2019, he once again became the richest person in the world after a 48% increase in Microsoft shares, surpassing Bezos.[232] Gates told the BBC, \"I\\'ve paid more tax than any individual ever, and gladly so ... I\\'ve paid over $6 billion in taxes.\"[233] He is a proponent of higher taxes, particularly for the rich.[234]\\n\\nBy 2017, Gates had held the top spot on the list of The World\\'s Billionaires for 18 out of the previous 23 years.[235] Gates has several investments outside Microsoft, which in 2006 paid him a salary of US$616,667 and US$350,000 bonus totalling US$966,667.[236] In 1989, he founded Corbis, a digital imaging company. In 2004, he became a director of Berkshire Hathaway, the investment company headed by long-time friend Warren Buffett.[237]\\n\\nIn 1987, Gates was listed as a billionaire in Forbes magazine\\'s 400 Richest People in America issue, worth $1.25 billion at the time, and was the world\\'s youngest self-made billionaire.[14] Since 1987, Gates has been included in the Forbes The World\\'s Billionaires list and was the wealthiest person from 1995 to 1996,[238] 1998 to 2007, 2009, and held the spot until 2018 before being overtaken by Jeff Bezos.[15] Gates was number one on the Forbes 400 list from 1993 through to 2007, 2009, and 2014 through 2017.[239][240]\\n• Time magazine named Gates one of the 100 people who most influenced the 20th century, as well as one of the 100 most influential people of 2004, 2005, and 2006.[241]\\n• Time also collectively named Gates, his wife Melinda and U2\\'s lead singer Bono as the 2005 Persons of the Year for their humanitarian efforts.[242] In 2006, he was voted eighth in the list of \"Heroes of our time\".[243]\\n• Gates was listed in the London Sunday Times power list in 1999, named CEO of the year by Chief Executive Officers magazine in 1994, ranked number one in the \"Top 50 Cyber Elite\" by Time in 1998, ranked number two in the Upside Elite 100 in 1999, and was included in The Guardian as one of the \"Top 100 influential people in media\" in 2001.[244]\\n• Gates was elected Member of the US National Academy of Engineering in 1996 \"for contributions to the founding and development of personal computing\".[245]\\n• He was named Honorary Member of the American Library Association in 1998.[246]\\n• He was elected a foreign member of the Chinese Academy of Engineering in 2017.[247]\\n• According to Forbes, Gates was ranked as the fourth most powerful person in the world in 2012,[248] up from fifth in 2011.[249]\\n• In 1994, he was honored as the 20th Distinguished Fellow of the British Computer Society (DFBCS). In 1999, Gates received New York Institute of Technology\\'s President\\'s Medal.[250]\\n• Gates has received honorary doctorates from Nyenrode Business Universiteit (1996),[251] KTH Royal Institute of Technology (2002),[252] Waseda University (2005),[253] Tsinghua University (2007),[254] Harvard University (2007),[255] the Karolinska Institute (2007),[256] and Cambridge University (2009).[257]\\n• He was also made an honorary trustee of Peking University in 2007.[258]\\n• Gates was made an Honorary Knight Commander of the Order of the British Empire (KBE) by Queen Elizabeth II in 2005.[259]\\n• In January 2006, he was awarded the Grand Cross of the Order of Prince Henry by the President of Portugal Jorge Sampaio\\n• In November 2006, he was awarded the Placard of the Order of the Aztec Eagle, together with his wife Melinda who was awarded the Insignia of the same order, both for their philanthropic work around the world in the areas of health and education, particularly in Mexico, and specifically in the program \" \".[260]\\n• Gates received the 2010 Bower Award for Business Leadership from The Franklin Institute for his achievements at Microsoft and his philanthropic work.[261]\\n• Also in 2010, he was honored with the Silver Buffalo Award by the Boy Scouts of America, its highest award for adults, for his service to youth.[262]\\n• In 2002, Bill and Melinda Gates received the Jefferson Award for Greatest Public Service Benefiting the Disadvantaged.[263]\\n• He was given the 2006 James C. Morgan Global Humanitarian Award from the Tech Awards.[264]\\n• In 2015, Gates and his wife Melinda received the Padma Bhushan, India\\'s third-highest civilian award for their social work in the country.[265][266]\\n• In 2016, Barack Obama honored Bill and Melinda Gates with the Presidential Medal of Freedom for their philanthropic efforts.[267]\\n• In 2017, François Hollande awarded Bill and Melinda Gates with France\\'s highest national order, the Commander of the Legion of Honour, for their charity efforts.[268]\\n• Entomologists named Bill Gates\\' flower fly, , in his honor in 1997.[269]\\n• In 2020, Bill Gates received the Grand Cordon of the Order of the Rising Sun for his contributions to Japan and the world in regards to worldwide technological transformation and advancement of global health.[270]\\n• In 2021, Bill Gates was nominated at the 11th annual Streamy Awards for the crossover for his personal YouTube channel.[271]\\n• In 2022, Bill Gates received the Hilal-e-Pakistan Second-highest civilian award for their social work in the country.\\n• The Machine That Changed the World (1990)\\n• 1999: Pirates of Silicon Valley, a film that chronicles the rise of Apple and Microsoft from the early 1970s to 1997. Gates is portrayed by Anthony Michael Hall.\\n• 2002: Nothing So Strange, a mockumentary featuring Gates as the subject of a modern assassination. Gates briefly appears at the start, played by Steve Sires.\\n• 2010: The Social Network, a film that chronicles the development of Facebook. Gates is portrayed by Steve Sires.[274]\\n• 2015: Steve Jobs vs. Bill Gates: The Competition to Control the Personal Computer, 1974–1999: Original film from the National Geographic Channel for the American Genius series.[275]\\n• 1983: Steve Jobs hosts Gates and others in the \"Macintosh dating game\" at the Macintosh pre-launch event (a parody of the television game show The Dating Game)[276]\\n• 1991: Gates spoke to the Berkeley Macintosh Users Group lively weekly Thursday night meeting with questions and answers in PSL Hall (renamed Pimentel Hall in 1994)[277] at University of California, Berkeley[278][279][280]\\n• 2007: Steve Jobs and Bill Gates Together at the D5 Conference on YouTube, All Things Digital\\n• 2009− : Gates has given numerous TED talks on current concerns such as innovation, education and fighting global diseases[281]\\n\\nGates was the guest on BBC Radio 4\\'s Desert Island Discs on January 31, 2016, in which he talked about his relationships with his father and Steve Jobs, meeting Melinda Ann French, the start of Microsoft and some of his habits (for example reading The Economist \"from cover to cover every week\"). His choice of things to take on a desert island were, for music: \"Blue Skies\" by Willie Nelson; a book: The Better Angels of Our Nature by Steven Pinker; and luxury item: a DVD Collection of Lectures from The Teaching Company.[282]\\n\\nGates made a guest appearance as himself on the TV show The Big Bang Theory. The episode on which he appeared was appropriately titled \"The Gates Excitation\".[283] He also appeared in a cameo role in 2019 on the series finale of Silicon Valley.[284] Gates was parodied in The Simpsons episode \"Das Bus\".\\n• None Fridson, Martin (2001). How to Be a Billionaire: Proven Strategies from the Titans of Wealth. John Wiley & Sons. ISBN .\\n• None Manes, Stephen (1994). Gates: How Microsoft\\'s Mogul Reinvented an Industry and Made Himself the Richest Man in America. Touchstone Pictures. ISBN .\\n• None Wallace, James (1993). Hard Drive: Bill Gates and the Making of the Microsoft Empire. New York City: HarperCollins Publishers. ISBN .\\n• Gates, Bill. \"An exclusive interview with Bill Gates\". Financial Times 1 (2013). online\\n• Kinsley, Michael, and Conor Clarke, Eds. Creative Capitalism: A Conversation With Bill Gates, Warren Buffett, and Other Economic Leaders (Simon and Schuster, 2009).\\n• None Bank, David (2001). Breaking Windows: How Bill Gates Fumbled the Future of Microsoft. New York City: Free Press. ISBN .\\n• None Rivlin, Gary (1999). The Plot to Get Bill Gates: An Irreverent Investigation of the World\\'s Richest Man... and the People Who Hate Him. New York City: Times Business. ISBN .\\n• None \"83 Reasons Why Bill Gates\\'s Reign Is Over\". Wired. Vol. 6, no. 12. December 1998. Archived from the original on August 22, 2010.\\n• None Kildall, Gary (October 25, 2004). \"The Man Who Could Have Been Bill Gates\". Bloomberg BusinessWeek. Archived from the original on April 4, 2006 .\\n• \"The Meaning of Bill Gates: As his reign at Microsoft comes to an end, so does the era he dominated\", The Economist, June 28, 2008.\\n• Wallace, James. Overdrive: Bill Gates and the Race to Control Cyberspace (John Wiley & Sons, Inc., 1997).'"
      ]
     },
     "execution_count": 167,
     "metadata": {},
     "output_type": "execute_result"
    }
   ],
   "source": [
    "article.cleaned_text"
   ]
  },
  {
   "cell_type": "code",
   "execution_count": 168,
   "metadata": {
    "id": "dkQlvGpBrRY7"
   },
   "outputs": [],
   "source": [
    "original_sentences, best_sentences, score_sentences = summarize(article.cleaned_text, len(original_sentences), 10, 50)"
   ]
  },
  {
   "cell_type": "code",
   "execution_count": 169,
   "metadata": {
    "colab": {
     "base_uri": "https://localhost:8080/"
    },
    "id": "ag0cEcIPsA5O",
    "outputId": "1bd0cb96-072a-4a88-813d-4c498f918f6d"
   },
   "outputs": [
    {
     "data": {
      "text/plain": [
       "421"
      ]
     },
     "execution_count": 169,
     "metadata": {},
     "output_type": "execute_result"
    }
   ],
   "source": [
    "len(original_sentences)"
   ]
  },
  {
   "cell_type": "code",
   "execution_count": 170,
   "metadata": {
    "colab": {
     "base_uri": "https://localhost:8080/"
    },
    "id": "Fd-u34bdsI4t",
    "outputId": "133410b5-70c4-417f-835d-839aed0b4ce4"
   },
   "outputs": [
    {
     "data": {
      "text/plain": [
       "28.50356294536817"
      ]
     },
     "execution_count": 170,
     "metadata": {},
     "output_type": "execute_result"
    }
   ],
   "source": [
    "(120 / len(original_sentences)) * 100"
   ]
  },
  {
   "cell_type": "code",
   "execution_count": 171,
   "metadata": {
    "colab": {
     "base_uri": "https://localhost:8080/"
    },
    "id": "SdTuebhCsQy-",
    "outputId": "5d056d0a-6f57-48ef-b2e4-d1ebf84821cd"
   },
   "outputs": [
    {
     "data": {
      "text/plain": [
       "['[236] In 1989, he founded Corbis, a digital imaging company.',\n",
       " '[104] That same year, Gates became an advisory board member of the Bloomberg New Economy Forum.',\n",
       " \"He has given sizable amounts of money to various charitable organizations and scientific research programs through the Bill & Melinda Gates Foundation, reported to be the world's largest private charity.\",\n",
       " '[11] In March 2020, Gates left his board positions at Microsoft and Berkshire Hathaway to focus on his philanthropic efforts on climate change, global health and development, and education.',\n",
       " '[3] During his career at Microsoft, Gates held the positions of chairman, chief executive officer (CEO), president and chief software architect, while also being the largest individual shareholder until May 2014.',\n",
       " '[239][240]\\n• Time magazine named Gates one of the 100 people who most influenced the 20th century, as well as one of the 100 most influential people of 2004, 2005, and 2006.',\n",
       " '[154]\\n\\nGates studied the work of Andrew Carnegie and John D. Rockefeller, and donated some of his Microsoft stock in 1994 to create the \"William H. Gates Foundation\".',\n",
       " '[5][a] Gates led the company as chairman and CEO until stepping down as CEO in January 2000, succeeded by Steve Ballmer, but he remained chairman of the board of directors and became chief software architect.',\n",
       " 'As the company grew, he transitioned into a manager role, then an executive.',\n",
       " '[235] Gates has several investments outside Microsoft, which in 2006 paid him a salary of US$616,667 and US$350,000 bonus totalling US$966,667.',\n",
       " '[173][174][175]\\n\\nGates has also provided personal donations to educational institutions.',\n",
       " 'PC Magazine asked if Gates was \"the man behind the machine?\".',\n",
       " '[70] The operating system grew out of DOS in an organic fashion over a decade, until with Windows 95 the DOS text screen was relegated to the closet.',\n",
       " \"[12]\\n\\nSince 1987, Gates has been included in the Forbes list of the world's wealthiest people.\",\n",
       " 'While Microsoft had previously given financial support to the institution, this was the first personal donation received from Gates.',\n",
       " '[155][156] The foundation allows benefactors to access information that shows how its money is being spent, unlike other major charitable organizations such as the Wellcome Trust.',\n",
       " '\"[171]\\n\\nMelinda Gates suggested that people should emulate the philanthropic efforts of the Salwen family, who sold their home and gave away half of its value, as detailed in their book, The Power of Half.',\n",
       " '[19][20] In 2010, Gates and Warren Buffett founded The Giving Pledge, whereby they and other billionaires pledge to give at least half of their wealth to philanthropy.',\n",
       " '[250]\\n• Gates has received honorary doctorates from Nyenrode Business Universiteit (1996),[251] KTH Royal Institute of Technology (2002),[252] Waseda University (2005),[253] Tsinghua University (2007),[254] Harvard University (2007),[255] the Karolinska Institute (2007),[256] and Cambridge University (2009).',\n",
       " \"[25] At the end of the ban, they offered to find bugs in CCC's software in exchange for extra computer time.\",\n",
       " 'After the Mothers Club donation was exhausted, Gates and other students sought time on systems including DEC PDP minicomputers.',\n",
       " '[13][14] From 1995 to 2017, he held the Forbes title of the richest person in the world every year except from 2010 to 2013.',\n",
       " \"Gates also doesn't own any cryptocurrencies himself.\",\n",
       " \"[15] In October 2017, he was surpassed by Amazon founder and CEO Jeff Bezos, who had an estimated net worth of US$90.6 billion compared to Gates's net worth of US$89.9 billion at the time.\",\n",
       " \"[220]\\n\\nGates's public image has changed over the years.\",\n",
       " 'This letter was unpopular with many computer hobbyists, but Gates persisted in his belief that software developers should be able to demand payment.',\n",
       " '[226] In March 2010, Gates was the second wealthiest person after Carlos Slim, but regained the top position in 2013, according to the Bloomberg Billionaires List.',\n",
       " 'His parents were supportive of him after seeing how much he wanted to start his own company.',\n",
       " '[246]\\n• He was elected a foreign member of the Chinese Academy of Engineering in 2017.',\n",
       " '\"[224]\\n\\nIn 1999, his wealth briefly surpassed US$101 billion.',\n",
       " '[92]\\n\\nSince leaving day-to-day operations at Microsoft, Gates has continued his philanthropy and works on other projects.',\n",
       " '[61] IBM first proposed that Microsoft write the BASIC interpreter.',\n",
       " \"[143] After he published his book How to Avoid a Climate Disaster, parts of the climate activist community criticized Gate's approach as technological solutionism.\",\n",
       " '[83] Jerry Pournelle wrote in 1985 when Gates announced Microsoft Excel: \"Bill Gates likes the program, not because it\\'s going to make him a lot of money (although I\\'m sure it will do that), but because it\\'s a neat hack.',\n",
       " '[159][160]\\n\\nGates has credited the generosity and extensive philanthropy of David Rockefeller as a major influence.',\n",
       " 'Gates briefly appears at the start, played by Steve Sires.',\n",
       " '[119]\\n• SCoPEx, Keith\\'s academic venture in \"sun-dimming\" geoengineering, which Gates provided most of the $12 million for.',\n",
       " 'In 2004, he became a director of Berkshire Hathaway, the investment company headed by long-time friend Warren Buffett.',\n",
       " '[69] In August of the following year, the company struck a deal with IBM to develop a separate operating system called OS/2.',\n",
       " '[11][94]\\n\\nGates provided his perspective on a range of issues in a substantial interview that was published in the March 27, 2014, issue of Rolling Stone magazine.',\n",
       " 'In early 1983, Allen left the company after receiving a Hodgkin lymphoma diagnosis, effectively ending the formal business partnership between Gates and Allen, which had been strained months prior due to a contentious dispute over Microsoft equity.',\n",
       " '\"[82][83][84] Gates has been accused of bullying Microsoft employees.',\n",
       " '[147] During the Federal Trade Commission\\'s (FTC) investigation of Microsoft in the 1990s, Gates was reportedly upset at Commissioner Dennis Yao for \"float[ing] a line of hypothetical questions suggesting possible curbs on Microsoft\\'s growing monopoly power\".',\n",
       " \"It became the world's largest personal computer software company.\",\n",
       " \"According to the Bloomberg Billionaires Index, Gates was the world's highest-earning billionaire in 2013, as his net worth increased by US$15.8 billion to US$78.5 billion.\",\n",
       " '[232] Gates told the BBC, \"I\\'ve paid more tax than any individual ever, and gladly so ...',\n",
       " \"The demonstration was held at MITS's offices in Albuquerque, New Mexico; it was a success and resulted in a deal with MITS to distribute the interpreter as Altair BASIC.\",\n",
       " '\"[53]\\n\\nGates read the January 1975 issue of Popular Electronics which demonstrated the Altair 8800, and he contacted Micro Instrumentation and Telemetry Systems (MITS) to inform them that he and others were working on a BASIC interpreter for the platform.',\n",
       " 'Gates left Harvard after two years while Ballmer stayed and graduated magna cum laude.',\n",
       " '[17]\\n\\nLater in his career and since leaving day-to-day operations at Microsoft in 2008, Gates has pursued many business and philanthropic endeavors.']"
      ]
     },
     "execution_count": 171,
     "metadata": {},
     "output_type": "execute_result"
    }
   ],
   "source": [
    "best_sentences"
   ]
  },
  {
   "cell_type": "code",
   "execution_count": 172,
   "metadata": {
    "colab": {
     "base_uri": "https://localhost:8080/"
    },
    "id": "tf8Cmm3esVZ-",
    "outputId": "9bc5abce-f387-4e47-bd93-c507a09a35d3"
   },
   "outputs": [
    {
     "data": {
      "text/plain": [
       "'[236] In 1989, he founded Corbis, a digital imaging company.'"
      ]
     },
     "execution_count": 172,
     "metadata": {},
     "output_type": "execute_result"
    }
   ],
   "source": [
    "best_sentences[0]"
   ]
  },
  {
   "cell_type": "code",
   "execution_count": 173,
   "metadata": {},
   "outputs": [],
   "source": [
    "doc = nlp(str(original_sentences))\n",
    "\n",
    "words = []\n",
    "refrence = []\n",
    "\n",
    "for sentence in doc.sents:\n",
    "    for word in sentence:\n",
    "        refrence.append(word.text)\n",
    "candidate = []\n",
    "doc = nlp(str(best_sentences))\n",
    "for sentence in doc.sents:\n",
    "    for word in sentence:\n",
    "        candidate.append(word.text)"
   ]
  },
  {
   "cell_type": "code",
   "execution_count": 174,
   "metadata": {},
   "outputs": [
    {
     "data": {
      "text/plain": [
       "list"
      ]
     },
     "execution_count": 174,
     "metadata": {},
     "output_type": "execute_result"
    }
   ],
   "source": [
    "type(refrence)"
   ]
  },
  {
   "cell_type": "code",
   "execution_count": 175,
   "metadata": {},
   "outputs": [
    {
     "name": "stdout",
     "output_type": "stream",
     "text": [
      "0.018280297901150978\n"
     ]
    }
   ],
   "source": [
    "from nltk.translate.bleu_score import sentence_bleu\n",
    "score = sentence_bleu(refrence, candidate, weights=(1, 0, 0, 0))\n",
    "print(score)"
   ]
  },
  {
   "cell_type": "code",
   "execution_count": 176,
   "metadata": {},
   "outputs": [
    {
     "data": {
      "text/html": [
       "<h1>Summary - Bill Gates - Wikipedia</h1>"
      ],
      "text/plain": [
       "<IPython.core.display.HTML object>"
      ]
     },
     "metadata": {},
     "output_type": "display_data"
    },
    {
     "data": {
      "text/html": [
       "  William Henry Gates III (born October 28, 1955) is an American business magnate, software developer, investor, author, and philanthropist. He is a co-founder of Microsoft, along with his late childhood friend Paul Allen. <mark>[3] During his career at Microsoft, Gates held the positions of chairman, chief executive officer (CEO), president and chief software architect, while also being the largest individual shareholder until May 2014.</mark> [4] He was a major entrepreneur of the microcomputer revolution of the 1970s and 1980s. Gates was born and raised in Seattle, Washington. In 1975, he and Allen founded Microsoft in Albuquerque, New Mexico. <mark>It became the world's largest personal computer software company.</mark> <mark>[5][a] Gates led the company as chairman and CEO until stepping down as CEO in January 2000, succeeded by Steve Ballmer, but he remained chairman of the board of directors and became chief software architect.</mark> [8] During the late 1990s, he was criticized for his business tactics, which have been considered anti-competitive. This opinion has been upheld by numerous court rulings. In June 2008, Gates transitioned to a part-time role at Microsoft and full-time work at the Bill & Melinda Gates Foundation, the private charitable foundation he and his then-wife, Melinda Gates, established in 2000. [10] He stepped down as chairman of the board of Microsoft in February 2014 and assumed a new post as technology adviser to support the newly appointed CEO Satya Nadella. <mark>[11] In March 2020, Gates left his board positions at Microsoft and Berkshire Hathaway to focus on his philanthropic efforts on climate change, global health and development, and education.</mark> <mark>[12]\n",
       "\n",
       "Since 1987, Gates has been included in the Forbes list of the world's wealthiest people.</mark> <mark>[13][14] From 1995 to 2017, he held the Forbes title of the richest person in the world every year except from 2010 to 2013.</mark> <mark>[15] In October 2017, he was surpassed by Amazon founder and CEO Jeff Bezos, who had an estimated net worth of US$90.6 billion compared to Gates's net worth of US$89.9 billion at the time.</mark> [16] As of September 2022, Gates had an estimated net worth of US$114 billion, making him the fifth-richest person in the world. <mark>[17]\n",
       "\n",
       "Later in his career and since leaving day-to-day operations at Microsoft in 2008, Gates has pursued many business and philanthropic endeavors.</mark> He is the founder and chairman of several companies, including BEN, Cascade Investment, bgC3, and TerraPower. <mark>He has given sizable amounts of money to various charitable organizations and scientific research programs through the Bill & Melinda Gates Foundation, reported to be the world's largest private charity.</mark> [18] Through the foundation, he led an early 21st century vaccination campaign that significantly contributed to the eradication of the wild poliovirus in Africa. <mark>[19][20] In 2010, Gates and Warren Buffett founded The Giving Pledge, whereby they and other billionaires pledge to give at least half of their wealth to philanthropy.</mark> [21]\n",
       "\n",
       "Bill Gates was born in Seattle, Washington on October 28, 1955. [3] He is the son of William H. Gates Sr.[b] (1925–2020) and Mary Maxwell Gates (1929–1994). [22] His ancestry includes English, German, and Irish/Scots-Irish. [23] His father was a prominent lawyer, and his mother served on the board of directors for First Interstate BancSystem and the United Way of America. Gates's maternal grandfather was J. W. Maxwell, a national bank president. Gates has an older sister Kristi (Kristianne) and a younger sister Libby. He is the fourth of his name in his family but is known as William Gates III or \"Trey\" (i.e., three) because his father had the \"II\" suffix. [25] The family lived in the Sand Point area of Seattle in a home that was damaged by a rare tornado when Gates was seven years old. [26]\n",
       "\n",
       "Early in his life, Gates observed that his parents wanted him to pursue a law career. When he was young, his family regularly attended a church of the Congregational Christian Churches, a Protestant Reformed denomination. [28][29][30] Gates was small for his age and was bullied as a child. [25] The family encouraged competition; one visitor reported that \"it didn't matter whether it was hearts or pickleball or swimming to the dock; there was always a reward for winning and there was always a penalty for losing\". [31]\n",
       "\n",
       "At 13, he enrolled in the private Lakeside prep school,[33] where he wrote his first software program. [34] When he was in the eighth grade, the Mothers' Club at the school used proceeds from Lakeside School's rummage sale to buy a Teletype Model 33 ASR terminal and a block of computer time on a General Electric (GE) computer for the students. Gates took an interest in programming the GE system in BASIC, and he was excused from math classes to pursue his interest. He wrote his first computer program on this machine, an implementation of tic-tac-toe that allowed users to play games against the computer. Gates was fascinated by the machine and how it would always execute software code perfectly. <mark>After the Mothers Club donation was exhausted, Gates and other students sought time on systems including DEC PDP minicomputers.</mark> One of these systems was a PDP-10 belonging to Computer Center Corporation (CCC) which banned Gates, Paul Allen, Ric Weiland, and Gates's best friend and first business partner Kent Evans, for the summer after it caught them exploiting bugs in the operating system to obtain free computer time. [25]\n",
       "\n",
       "The four students formed the Lakeside Programmers Club to make money. <mark>[25] At the end of the ban, they offered to find bugs in CCC's software in exchange for extra computer time.</mark> Rather than using the system remotely via Teletype, Gates went to CCC's offices and studied source code for various programs that ran on the system, including Fortran, Lisp, and machine language. The arrangement with CCC continued until 1970 when the company went out of business. The following year, a Lakeside teacher enlisted Gates and Evans to automate the school's class-scheduling system, providing them computer time and royalties in return. The duo worked diligently in order to have the program ready for their senior year. Towards the end of their junior year, Evans was killed in a mountain climbing accident, which Gates has described as one of the saddest days of his life. Gates then turned to Allen who helped him finish the system for Lakeside. [25]\n",
       "\n",
       "At 17, Gates formed a venture with Allen called Traf-O-Data to make traffic counters based on the Intel 8008 processor. In 1972, he served as a congressional page in the House of Representatives. [39][40] He was a National Merit Scholar when he graduated from Lakeside School in 1973. [41] He scored 1590 out of 1600 on the Scholastic Aptitude Tests (SAT) and enrolled at Harvard College in the autumn of 1973. [42] He chose a pre-law major but took mathematics and graduate level computer science courses. [44] While at Harvard, he met fellow student Steve Ballmer. <mark>Gates left Harvard after two years while Ballmer stayed and graduated magna cum laude.</mark> Years later, Ballmer succeeded Gates as Microsoft's CEO and maintained that position from 2000 until his resignation in 2014. [45][46]\n",
       "\n",
       "Gates devised an algorithm for pancake sorting as a solution to one of a series of unsolved problems[47] presented in a combinatorics class by professor Harry Lewis. His solution held the record as the fastest version for over 30 years, and its successor is faster by only 2%. [47][48] His solution was formalized and published in collaboration with Harvard computer scientist Christos Papadimitriou. [49]\n",
       "\n",
       "Gates remained in contact with Paul Allen and joined him at Honeywell during the summer of 1974. In 1975, the MITS Altair 8800 was released based on the Intel 8080 CPU, and Gates and Allen saw the opportunity to start their own computer software company. Gates dropped out of Harvard that same year. <mark>His parents were supportive of him after seeing how much he wanted to start his own company.</mark> He explained his decision to leave Harvard: \"if things hadn't worked out, I could always go back to school. I was officially on leave. <mark>\"[53]\n",
       "\n",
       "Gates read the January 1975 issue of Popular Electronics which demonstrated the Altair 8800, and he contacted Micro Instrumentation and Telemetry Systems (MITS) to inform them that he and others were working on a BASIC interpreter for the platform.</mark> [54] In reality, Gates and Allen did not have an Altair and had not written code for it; they merely wanted to gauge MITS's interest. MITS president Ed Roberts agreed to meet them for a demonstration, and over the course of a few weeks they developed an Altair emulator that ran on a minicomputer, and then the BASIC interpreter. <mark>The demonstration was held at MITS's offices in Albuquerque, New Mexico; it was a success and resulted in a deal with MITS to distribute the interpreter as Altair BASIC.</mark> MITS hired Allen,[55] and Gates took a leave of absence from Harvard to work with him at MITS in November 1975. Allen named their partnership \"Micro-Soft\", a combination of \"microcomputer\" and \"software\", and their first office was in Albuquerque. The first employee Gates and Allen hired was their high school collaborator Ric Weiland. [55] They dropped the hyphen within a year and officially registered the trade name \"Microsoft\" with the Secretary of the State of New Mexico on November 26, 1976. [55] Gates never returned to Harvard to complete his studies. Microsoft's Altair BASIC was popular with computer hobbyists, but Gates discovered that a pre-market copy had leaked out and was being widely copied and distributed. In February 1976, he wrote an Open Letter to Hobbyists in the MITS newsletter in which he asserted that more than 90% of the users of Microsoft Altair BASIC had not paid Microsoft for it and the Altair \"hobby market\" was in danger of eliminating the incentive for any professional developers to produce, distribute, and maintain high-quality software. <mark>This letter was unpopular with many computer hobbyists, but Gates persisted in his belief that software developers should be able to demand payment.</mark> Microsoft became independent of MITS in late 1976, and it continued to develop programming language software for various systems. [55] The company moved from Albuquerque to Bellevue, Washington on January 1, 1979. [54]\n",
       "\n",
       "Gates said he personally reviewed and often rewrote every line of code that the company produced in its first five years. <mark>As the company grew, he transitioned into a manager role, then an executive.</mark> [57]\n",
       "\n",
       "DONKEY.BAS, is a computer game written in 1981 and included with early versions of the PC DOS operating system distributed with the original IBM PC. It is a driving game in which the player must avoid hitting donkeys. The game was written by Gates and Neil Konzen. [58][59]\n",
       "\n",
       "IBM, the leading supplier of computer equipment to commercial enterprises at the time, approached Microsoft in July 1980 concerning software for its upcoming personal computer, the IBM PC,[60] after Bill Gates's mother, Mary Maxwell Gates, mentioned Microsoft to John Opel, IBM's CEO. <mark>[61] IBM first proposed that Microsoft write the BASIC interpreter.</mark> IBM's representatives also mentioned that they needed an operating system, and Gates referred them to Digital Research (DRI), makers of the widely used CP/M operating system. [62] IBM's discussions with Digital Research went poorly, however, and they did not reach a licensing agreement. IBM representative Jack Sams mentioned the licensing difficulties during a subsequent meeting with Gates and asked if Microsoft could provide an operating system. A few weeks later, Gates and Allen proposed using 86-DOS, an operating system similar to CP/M, that Tim Paterson of Seattle Computer Products (SCP) had made for hardware similar to the PC. [63] Microsoft made a deal with SCP to be the exclusive licensing agent of 86-DOS, and later the full owner. Microsoft employed Paterson to adapt the operating system for the PC[64] and delivered it to IBM as PC DOS for a one-time fee of $50,000. The contract itself only earned Microsoft a relatively small fee. It was the prestige brought to Microsoft by IBM's adoption of their operating system that would be the origin of Microsoft's transformation from a small business to the leading software company in the world. Gates had not offered to transfer the copyright on the operating system to IBM because he believed that other personal computer makers would clone IBM's PC hardware. They did, making the IBM-compatible PC, running DOS, a de facto standard. The sales of MS-DOS (the version of DOS sold to customers other than IBM) made Microsoft a major player in the industry. The press quickly identified Microsoft as being very influential on the IBM PC. <mark>PC Magazine asked if Gates was \"the man behind the machine?\".</mark> [60]\n",
       "\n",
       "Gates oversaw Microsoft's company restructuring on June 25, 1981, which re-incorporated the company in Washington state and made Gates the president and chairman of the board, with Paul Allen as vice president and vice chairman. <mark>In early 1983, Allen left the company after receiving a Hodgkin lymphoma diagnosis, effectively ending the formal business partnership between Gates and Allen, which had been strained months prior due to a contentious dispute over Microsoft equity.</mark> [54][67] Later in the decade, Gates repaired his relationship with Allen and together the two donated millions to their childhood school Lakeside. [25] They remained friends until Allen's death in October 2018. [68]\n",
       "\n",
       "Microsoft and Gates launched their first retail version of Microsoft Windows on November 20, 1985, in an attempt to fend off competition from Apple's Macintosh GUI, which had bewitched consumers with its simplicity and ease of use. <mark>[69] In August of the following year, the company struck a deal with IBM to develop a separate operating system called OS/2.</mark> Although the two companies successfully developed the first version of the new system, the partnership deteriorated due to mounting creative differences. <mark>[70] The operating system grew out of DOS in an organic fashion over a decade, until with Windows 95 the DOS text screen was relegated to the closet.</mark> Windows XP, released one year after Gates stepped down as Microsoft CEO, reportedly was the first to not be based on DOS. [71] Windows 8.1 was the last version of the OS released before Gates left the chair of the firm to John W. Thompson on February 5, 2014. [72]\n",
       "\n",
       "Gates had primary responsibility for Microsoft's product strategy from the company's founding from 1975 until 2006. He gained a reputation for being distant from others; an industry executive complained in 1981 that \"Gates is notorious for not being reachable by phone and for not returning phone calls. \"[73] An Atari executive recalled that he showed Gates a game and defeated him 35 of 37 times. When they met again a month later, Gates \"won or tied every game. He had studied the game until he solved it. That is a competitor\". [74]\n",
       "\n",
       "In the early 1980s, while business partner Paul Allen was undergoing treatments for cancer, Gates — according to Allen — conspired to reduce Allen's share in Microsoft by issuing himself stock options. [75][76][77] In his autobiography, Allen would later recall that Gates was \"scheming to rip me off. It was mercenary opportunism plain and simple\". [75] Gates says he remembers the episode differently. [76] Allen would also recall that Gates was prone to shouting episodes. [77]\n",
       "\n",
       "Gates met regularly with Microsoft's senior managers and program managers, and the managers described him as being verbally combative. He also berated them for perceived holes in their business strategies or proposals that placed the company's long-term interests at risk. [78][79] He interrupted presentations with such comments as \"that's the stupidest thing I've ever heard\"[80] and \"why don't you just give up your options and join the Peace Corps? \"[81] The target of his outburst would then have to defend the proposal in detail until Gates was fully convinced. [80] When subordinates appeared to be procrastinating, he was known to remark sarcastically, \"I'll do it over the weekend. <mark>\"[82][83][84] Gates has been accused of bullying Microsoft employees.</mark> [85]\n",
       "\n",
       "During Microsoft's early years, Gates was an active software developer, particularly in the company's programming language products, but his primary role in most of the company's history was as a manager and executive. He has not officially been on a development team since working on the TRS-80 Model 100,[86] but he wrote code that shipped with the company's products as late as 1989. <mark>[83] Jerry Pournelle wrote in 1985 when Gates announced Microsoft Excel: \"Bill Gates likes the program, not because it's going to make him a lot of money (although I'm sure it will do that), but because it's a neat hack.</mark> \"[87]\n",
       "\n",
       "On June 15, 2006, Gates announced that he would transition out of his role at Microsoft to dedicate more time to philanthropy. He gradually divided his responsibilities between two successors when he placed Ray Ozzie in charge of management and Craig Mundie in charge of long-term product strategy. [88] The process took two years to fully transfer his duties to Ozzie and Mundie, and was completed on June 27, 2008. [89]\n",
       "\n",
       "Gates approved of many decisions that led to antitrust litigation over Microsoft's business practices. In the 1998 United States v. Microsoft case, Gates gave deposition testimony that several journalists characterized as evasive. He argued with examiner David Boies over the contextual meaning of words such as \"compete\", \"concerned\", and \"we\". Later in the year, when portions of the videotaped deposition were played back in court, the judge was seen laughing and shaking his head. [90] BusinessWeek reported:\n",
       "\n",
       "Gates later said that he had simply resisted attempts by Boies to mischaracterize his words and actions. \"Did I fence with Boies? ... I plead guilty ... rudeness to Boies in the first degree. \"[92] Despite Gates's denials, the judge ruled that Microsoft had committed monopolization, tying and blocking competition, each in violation of the Sherman Antitrust Act. <mark>[92]\n",
       "\n",
       "Since leaving day-to-day operations at Microsoft, Gates has continued his philanthropy and works on other projects.</mark> <mark>According to the Bloomberg Billionaires Index, Gates was the world's highest-earning billionaire in 2013, as his net worth increased by US$15.8 billion to US$78.5 billion.</mark> As of January 2014 , most of Gates's assets are held in Cascade Investment LLC, an entity through which he owns stakes in numerous businesses, including Four Seasons Hotels and Resorts, and Corbis Corp.[93] On February 4, 2014, Gates stepped down as chairman of Microsoft to become \"technology advisor\" at the firm, alongside CEO Satya Nadella. <mark>[11][94]\n",
       "\n",
       "Gates provided his perspective on a range of issues in a substantial interview that was published in the March 27, 2014, issue of Rolling Stone magazine.</mark> In the interview, Gates provided his perspective on climate change, his charitable activities, various tech companies and people involved in them, and the state of America. In response to a question about his greatest fear when he looks 50 years into the future, Gates stated: \"there'll be some really bad things that'll happen in the next 50 or 100 years, but hopefully none of them on the scale of, say, a million people that you didn't expect to die from a pandemic, or nuclear or bioterrorism.\" Gates also identified innovation as the \"real driver of progress\" and pronounced that \"America's way better today than it's ever been. \"[95]\n",
       "\n",
       "Gates has expressed concern about the potential harms of superintelligence; in a Reddit \"ask me anything\", he stated that:\n",
       "\n",
       "In an interview that was held at the TED conference in March 2015, with Baidu's CEO, Robin Li, Gates said he would \"highly recommend\" Nick Bostrom's recent work, Superintelligence: Paths, Dangers, Strategies. [100] During the conference, Gates warned that the world was not prepared for the next pandemic, a situation that would come to pass in late 2019 when the COVID-19 pandemic began. [101] In March 2018, Gates met at his home in Seattle with Mohammed bin Salman, the reformist crown prince and de facto ruler of Saudi Arabia to discuss investment opportunities for Saudi Vision 2030. [102][103] In June 2019, Gates admitted that losing the mobile operating system race to Android was his biggest mistake. He stated that it was within their skill set of being the dominant player, but partially blames the antitrust litigation during the time. <mark>[104] That same year, Gates became an advisory board member of the Bloomberg New Economy Forum.</mark> [105]\n",
       "\n",
       "On March 13, 2020, Microsoft announced Gates would be leaving his board positions at Berkshire Hathaway and Microsoft to dedicate his efforts in philanthropic endeavors such as climate change, global health and development, and education. [12]\n",
       "\n",
       "During the COVID-19 pandemic, Gates has widely been looked at by media outlets as an expert on the issue, despite him not being a public official or having any prior medical training. [106] His foundation did, however, establish the COVID-19 Therapeutics Accelerator in 2020 to hasten the development and evaluation of new and repurposed drugs and biologics to treat patients for COVID-19,[107] and, as of February 2021, Gates expressed that he and Anthony Fauci frequently talk and collaborate on matters including vaccines and other medical innovations to fight the pandemic. [108]\n",
       "\n",
       "Gates has a multi-billion dollar investment portfolio with stake in various sectors[109] and has participated in several entrepreneurial ventures beyond Microsoft, including:\n",
       "• AutoNation, automotive retailer that Gates has a 16% stake in trading on the NYSE. [ ]\n",
       "• Canadian National Railway (CN), a Canadian Class I freight railway. As of 2019, Gates is the largest single shareholder of CN stock. [111]\n",
       "• Cascade Investment LLC, a private investment and holding company incorporated in the United States, founded and controlled by Gates and headquartered in Kirkland, Washington. [112]\n",
       "• Gates is the top private owner of farmland in the United States with landholdings owned via Cascade Investment totalling 242,000 acres across 19 states. [113][114] He is the 49th largest private owner of land in the US. [115]\n",
       "• Carbon Engineering, a for-profit venture founded by David Keith, which Gates helped fund. [116][117][118] It's is also supported by Chevron Corporation and Occidental Petroleum. <mark>[119]\n",
       "• SCoPEx, Keith's academic venture in \"sun-dimming\" geoengineering, which Gates provided most of the $12 million for.</mark> [120]\n",
       "• Corbis (originally named Interactive Home Systems and now known as Branded Entertainment Network), a digital image licensing and rights services company founded and chaired by Gates. [121]\n",
       "• EarthNow, Seattle-based startup company aiming to blanket the Earth with live satellite video coverage. Gates is a large financial backer. [122]\n",
       "• Eclipse Aviation, a defunct manufacturer of very light jets. Gates was a major stake-holder early on in the project. [ ]\n",
       "• Impossible Foods, a company that develops plant-based substitutes for meat products. Some of the $396 million Patrick O. Brown collected for his business came from Gates around 2014 to 2017. [123][124][125]\n",
       "• Ecolab, global provider of water, hygiene and energy technologies and services to the food, energy, healthcare, industrial and hospitality markets. Combined with the shares owned by the Foundation, Gates owns 11.6% of the company. A shareholder agreement in 2012 allowed him to own up to 25% of the company, but this agreement was removed. [126]\n",
       "• ResearchGate, a social networking site for scientists. Gates participated in a $35 million round of financing along with other investors. [127]\n",
       "• TerraPower, a nuclear reactor design company co-founded and chaired by Gates, which is developing next generation traveling-wave reactor nuclear power plants in an effort to tackle climate change. [128][129][130][131][132]\n",
       "• Breakthrough Energy Ventures, a closed fund for wealthy individuals who seek ROI on a 20-year horizon (see next section), which \"is funding green start-ups and a host of other low-carbon entrepreneurial projects, including everything from advanced nuclear technology to synthetic breast milk.\" It was founded by Gates in 2015. [133]\n",
       "• Ginkgo Bioworks, a biotech startup that received $350 million in venture funding in 2019, in part from Gates's investment firm Cascade Investment. [134]\n",
       "• Mologic, British diagnostic technology company that Gates purchased, along with the Soros Economic Development Fund, \"which has developed 10-minute Covid lateral flow tests that it aims to make for as little as $1. \"[135]\n",
       "\n",
       "Gates considers climate change and global access to energy to be critical, interrelated issues. He has urged governments and the private sector to invest in research and development to make clean, reliable energy cheaper. Gates envisions that a breakthrough innovation in sustainable energy technology could drive down both greenhouse gas emissions and poverty, and bring economic benefits by stabilizing energy prices. [136] In 2011, he said: \"If you gave me the choice between picking the next 10 presidents or ensuring that energy is environmentally friendly and a quarter as costly, I'd pick the energy thing. \"[137]\n",
       "\n",
       "In 2015, he wrote about the challenge of transitioning the world's energy system from one based primarily on fossil fuels to one based on sustainable energy sources. Global energy transitions have historically taken decades. He wrote, \"I believe we can make this transition faster, both because the pace of innovation is accelerating, and because we have never had such an urgent reason to move from one source of energy to another. \"[138] This rapid transition, according to Gates, would depend on increased government funding for basic research and financially risky private-sector investment, to enable innovation in diverse areas such as nuclear energy, grid energy storage to facilitate greater use of solar and wind energy, and solar fuels. [139]\n",
       "\n",
       "Gates spearheaded two initiatives that he announced at the 2015 United Nations Climate Change Conference in Paris. One was Mission Innovation, in which 20 national governments pledged to double their spending on research and development for carbon-free energy in over five years' time. [136] Another initiative was Breakthrough Energy, a group of investors who agreed to fund high-risk startups in clean energy technologies. Gates, who had already invested $1 billion of his own money in innovative energy startups, committed a further $1 billion to Breakthrough Energy. [139] In December 2020, he called for the U.S. federal government to create institutes for clean energy research, analogous to the National Institutes of Health. [140] Gates has also urged rich nations to shift to 100% synthetic beef industries to reduce greenhouse gas emissions from food production. [141]\n",
       "\n",
       "Gates has been criticised for holding a large stake in Signature Aviation, a company that services emissions-intensive private jets. [142] In 2019, he began to divest from fossil fuels. He does not expect divestment itself to have much practical impact, but says that if his efforts to provide alternatives were to fail, he would not want to personally benefit from an increase in fossil fuel stock prices. <mark>[143] After he published his book How to Avoid a Climate Disaster, parts of the climate activist community criticized Gate's approach as technological solutionism.</mark> [144]\n",
       "\n",
       "In June 2021, Gates's company TerraPower and Warren Buffett's PacifiCorp announced the first sodium nuclear reactor in Wyoming. Wyoming Governor Mike Gordon hailed the project as a step toward carbon-negative nuclear power. Wyoming Senator John Barrasso also said that it could boost the state's once-active uranium mining industry. [145]\n",
       "\n",
       "Gates spent many efforts to make pass the Inflation Reduction Act of 2022 because of his importance to climate. He tried to convince Joe Manchin to support a climate bill from the year 2019 and especially in the months before the adoption of the bill. The bill should cut the global greenhouse gas emissions in a level similar to \"eliminating the annual planet-warming pollution of France and Germany combined\" and may help to limit the warming of the planet to 1.5 degrees - the target of the Paris Agreement. [146]\n",
       "\n",
       "In 1998, Gates rejected the need for regulation of the software industry in testimony before the United States Senate. <mark>[147] During the Federal Trade Commission's (FTC) investigation of Microsoft in the 1990s, Gates was reportedly upset at Commissioner Dennis Yao for \"float[ing] a line of hypothetical questions suggesting possible curbs on Microsoft's growing monopoly power\".</mark> According to one source:\n",
       "\n",
       "On February 18, 2021, after Facebook and Twitter had banned Donald Trump from their platforms as a result of the 2020 United States presidential election which led to the January 6 United States Capitol attack, Gates said a permanent ban of Trump \"would be a shame\" and would be an \"extreme measure\". He warned that it would cause \"polarization\" if users with different political views divide up among various social networks, and said: \"I don't think banning somebody who actually did get a fair number of votes (in the presidential election) – well less than a majority – but I don't think having him off forever would be that good. \"[147]\n",
       "\n",
       "In April 2021, during the COVID-19 pandemic, Gates was criticized for suggesting that pharmaceutical companies should hold onto patents for COVID-19 vaccines. The criticism came due to the possibility of this preventing poorer nations from obtaining adequate vaccines. Tara Van Ho of the University of Essex stated, \"Gates speaks as if all the lives being lost in India are inevitable but eventually the West will help when in reality the US & UK are holding their feet on the neck of developing states by refusing to break [intellectual property rights] protections. It's disgusting. \"[149]\n",
       "\n",
       "Bill Gates is opposed to the TRIPS waiver. [150][151][152] Bloomberg News reported him as saying he argued that Oxford University should not give away the rights to its COVID-19 information, as it had announced, but instead sell it to a single industry partner, as it did. [153] His views on the value of legal monopolies in medicine have been linked to his views on legal monopolies in software. [151][152]\n",
       "\n",
       "Bill Gates is critical of cryptocurrencies like Bitcoin. According to Gates, cryptocurrencies provide no \"valuable output\", contribute nothing to society, and pose a danger especially for smaller investors who couldn't survive the potentially high losses. <mark>Gates also doesn't own any cryptocurrencies himself.</mark> <mark>[154]\n",
       "\n",
       "Gates studied the work of Andrew Carnegie and John D. Rockefeller, and donated some of his Microsoft stock in 1994 to create the \"William H. Gates Foundation\".</mark> In 2000, Gates and his wife combined three family foundations and Gates donated stock valued at $5 billion to create the charitable Bill & Melinda Gates Foundation, which was identified by the Funds for NGOs company in 2013, as the world's wealthiest charitable foundation, with assets reportedly valued at more than $34.6 billion. <mark>[155][156] The foundation allows benefactors to access information that shows how its money is being spent, unlike other major charitable organizations such as the Wellcome Trust.</mark> [157][158] Gates, through his foundation, also donated $20 million to Carnegie Mellon University for a new building to be named Gates Center for Computer Science which opened in 2009. <mark>[159][160]\n",
       "\n",
       "Gates has credited the generosity and extensive philanthropy of David Rockefeller as a major influence.</mark> Gates and his father met with Rockefeller several times, and their charity work is partly modeled on the Rockefeller family's philanthropic focus, whereby they are interested in tackling the global problems that are ignored by governments and other organizations. [161] As of 2007 , Bill and Melinda Gates were the second-most generous philanthropists in America, having given over $28 billion to charity;[162] the couple plan to eventually donate 95% of their wealth to charity. [163]\n",
       "\n",
       "The foundation is organized into five program areas: Global Development Division, Global Health Division, United States Division, and Global Policy & Advocacy Division. Among others, it supports a wide range of public health projects, granting aid to fight transmissible diseases such AIDS, tuberculosis and malaria, as well as widespread vaccine programs to eradicate polio. It grants funds to learning institutes and libraries and supports scholarships at universities. The foundation established a water, sanitation and hygiene program to provide sustainable sanitation services in poor countries. [164] Its agriculture division supports the International Rice Research Institute in developing Golden Rice, a genetically modified rice variant used to combat vitamin A deficiency. [165] The goal of the foundation is to provide 120 million women and girls, in the poorest countries, with high-quality contraceptive information and services, with the longer-term goal of universal access to voluntary family planning. [166] In 2007, the Los Angeles Times criticized the foundation for investing its assets in companies that have been accused of worsening poverty, pollution and pharmaceutical firms that do not sell to developing countries. [167] Although the foundation announced a review of its investments to assess social responsibility,[168] it was subsequently canceled and upheld its policy of investing for maximum return, while using voting rights to influence company practices. [169]\n",
       "\n",
       "Gates delivered his thoughts in a fireside chat moderated by journalist and news anchor Shereen Bhan virtually at the Singapore FinTech Festival on December 8, 2020, on the topic, \"Building Infrastructure for Resilience: What the COVID-19 Response Can Teach Us About How to Scale Financial Inclusion\". [170]\n",
       "\n",
       "Gates favours the normalization of COVID-19 masks. In a November 2020 interview, he said: \"What are these, like, nudists? I mean, you know, we ask you to wear pants, and no American says, or very few Americans say, that that's, like, some terrible thing. <mark>\"[171]\n",
       "\n",
       "Melinda Gates suggested that people should emulate the philanthropic efforts of the Salwen family, who sold their home and gave away half of its value, as detailed in their book, The Power of Half.</mark> [172] Gates and his wife invited Joan Salwen to Seattle to speak about what the family had done, and on December 9, 2010, Bill and Melinda Gates and investor Warren Buffett each signed a commitment they called the \"Giving Pledge\", which is a commitment by all three to donate at least half of their wealth, over the course of time, to charity. <mark>[173][174][175]\n",
       "\n",
       "Gates has also provided personal donations to educational institutions.</mark> In 1999, Gates donated $20 million to the Massachusetts Institute of Technology for the construction of a computer laboratory named the \"William H. Gates Building\" that was designed by architect Frank Gehry. <mark>While Microsoft had previously given financial support to the institution, this was the first personal donation received from Gates.</mark> [176]\n",
       "\n",
       "The Maxwell Dworkin Laboratory of the Harvard John A. Paulson School of Engineering and Applied Sciences is named after the mothers of both Gates and Microsoft President Steven A. Ballmer, both of whom were students (Ballmer was a member of the school's graduating class of 1977, while Gates left his studies for Microsoft), and donated funds for the laboratory's construction. [177] Gates also donated $6 million to the construction of the Gates Computer Science Building, completed in January 1996, on the campus of Stanford University. The building contains the Computer Science Department and the Computer Systems Laboratory (CSL) of Stanford's Engineering department. [178]\n",
       "\n",
       "Since 2005, Gates and his foundation have taken an interest in solving global sanitation problems. For example, they announced the \"Reinvent the Toilet Challenge\", which has received considerable media interest. [179] To raise awareness for the topic of sanitation and possible solutions, Gates drank water that was \"produced from human feces\" in 2014 – it was produced from a sewage sludge treatment process called the Omni Processor. [180][181] In early 2015, he also appeared with Jimmy Fallon on The Tonight Show and challenged him to see if he could taste the difference between this reclaimed water or bottled water. [182]\n",
       "\n",
       "In November 2017, Gates said he would give $50 million to the Dementia Discovery Fund, a venture capital fund that seeks treatment for Alzheimer's disease. He also pledged an additional $50 million to start-up ventures working in Alzheimer's research. [183] Bill and Melinda Gates have said that they intend to leave their three children $10 million each as their inheritance. With only $30 million kept in the family, they are expected to give away about 99.96% of their wealth. [184] On August 25, 2018, Gates distributed $600,000 through his foundation via UNICEF which is helping flood affected victims in Kerala, India. [185]\n",
       "\n",
       "In June 2018, Bill Gates offered free ebooks, to all new graduates of U.S. colleges and universities,[186] and in 2021, offered free ebooks, to all college and university students around the world. [187][188] The Bill And Melinda Gates Foundation partially funds OpenStax, which creates and provides free digital textbooks. [189]\n",
       "\n",
       "On April 29, 2017, Gates partnered with Swiss tennis legend Roger Federer in playing in the Match for Africa 4, a noncompetitive tennis match at a sold-out Key Arena in Seattle. The event was in support of the Roger Federer Foundation's charity efforts in Africa. [190] Federer and Gates played against John Isner, the top-ranked American player for much of this decade, and Mike McCready, the lead guitarist for Pearl Jam. The pair won the match 6 games to 4. Overall, they raised $2 million for children in Africa. [191] The following year, Gates and Federer returned to play in the Match for Africa 5 on March 5, 2018, at San Jose's SAP Center. Their opponents were Jack Sock, one of the top American players and a grand slam winner in doubles, and Savannah Guthrie, a co-anchor for NBC's Today show. Gates and Federer recorded their second match victory together by a score of 6–3 and the event raised over $2.5 million. [192]\n",
       "• The Road Ahead, written with Microsoft executive Nathan Myhrvold and journalist Peter Rinearson, was published in November 1995. It summarized the implications of the personal computing revolution and described a future profoundly changed by the arrival of a global information superhighway. • Business @ the Speed of Thought was published in 1999, and discusses how business and technology are integrated, and shows how digital infrastructures and information networks can help to get an edge on the competition. • How to Avoid a Climate Disaster (February 2021) presents what Gates learned in over a decade of studying climate change and investing in innovations to address climate problems. [193]\n",
       "• How to Prevent the Next Pandemic (April 2022) details the COVID-19 pandemic and proposes a \"Global Epidemic Response and Mobilization\" (GERM) team with annual funding of $1 billion,[194] under the auspices of the WHO. [195]\n",
       "\n",
       "Gates is an avid reader,[196] and the ceiling of his large home library is engraved with a quotation from The Great Gatsby. [197] He also enjoys bridge, tennis and golf. [198][199] His days are planned for him on a minute-by-minute basis, similarly to the U.S. president's schedule. [200] Despite his wealth and extensive business travel, Gates flew coach (economy class) in commercial aircraft until 1997, when he bought a private jet. [201]\n",
       "\n",
       "Gates purchased the Codex Leicester, a collection of scientific writings by Leonardo da Vinci, for US$30.8 million at an auction in 1994. [202] In 1998, he reportedly paid $30 million for the original 1885 maritime painting Lost on the Grand Banks, at the time a record price for an American painting. [203]\n",
       "\n",
       "In 2016, he revealed that he was color-blind. [204]\n",
       "\n",
       "On May 10, 2022, Gates said that he tested positive for COVID-19 and was experiencing mild symptoms. [205] Gates has received three doses of the COVID-19 vaccine. [205]\n",
       "\n",
       "Gates married Melinda French on the Hawaiian Island of Lanai on January 1, 1994. [206] They met in 1987 after Melinda began working at Microsoft. [207] At the time of their marriage, Gates was given permission by Melinda to spend limited time with his ex-girlfriend, businesswoman Ann Winblad. [208] Bill and Melinda have three children: Jennifer, Rory and Phoebe. [209] The family's residence is an earth-sheltered mansion in the side of a hill overlooking Lake Washington in Medina, Washington. In 2009, property taxes on the mansion were reported to be US$1.063 million, on a total assessed value of US$147.5 million. [210] The 66,000-square-foot (6,100 m2) estate has a 60-foot (18 m) swimming pool with an underwater music system, as well as a 2,500-square-foot (230 m2) gym and a 1,000-square-foot (93 m2) dining room. [211] On May 3, 2021, the Gateses announced they had decided to divorce after 27 years of marriage and 34 years as a couple. [212] They said they would keep working together on charitable efforts. [212][213] The Wall Street Journal reported that Melinda had been meeting with divorce attorneys since 2019, citing interviews that suggested Bill's ties with Jeffrey Epstein was at least one of her concerns. [214] The divorce was finalized on August 2, 2021. [215]\n",
       "\n",
       "A New York Times article reported that Gates's relationship with convicted sex offender Jeffrey Epstein started in 2011, just a few years after Epstein's conviction, and continued for some years, including a visit to Epstein's house with Melinda in the fall of 2013, despite her declared discomfort. [216] Gates said in 2011 about Epstein: \"His lifestyle is very different and kind of intriguing although it would not work for me\". [217]\n",
       "\n",
       "The depth of the friendship between Gates and Epstein is unclear. Gates generally commented about his relationship with Epstein that \"I met him. I didn't have any business relationship or friendship with him\". [218] However, Gates visited Epstein \"many times, despite [Epstein's] past\". [216]\n",
       "\n",
       "It was reported that Epstein and Gates \"discussed the Gates Foundation and philanthropy\". [216] However, in an interview in 2019 Gates completely denied any connection between Epstein and the Gates Foundation or his philanthropy generally. [218] In August 2021, Gates said the reason he had meetings with Epstein was because Gates hoped Epstein could provide money for philanthropic work, though nothing came of the idea. Gates added, \"It was a huge mistake to spend time with him, to give him the credibility of being there. \"[85]\n",
       "\n",
       "It has also been reported that Epstein and Gates met with Nobel Committee chair Thorbjørn Jagland at his residence in Strasbourg, France in March 2013 to discuss the Nobel Prize. [219] Also in attendance were representatives of the International Peace Institute which has received millions in grants from the Gates Foundation, including a $2.5 million \"community engagement\" grant in October 2013. <mark>[220]\n",
       "\n",
       "Gates's public image has changed over the years.</mark> At first he was perceived as a brilliant but ruthless \"robber baron\", a \"nerd-turned-tycoon\". [221] Starting in 2000 with the foundation of the Bill and Melinda Gates Foundation, and particularly after he stepped down as head of Microsoft, he turned his attention to philanthropy, spending more than $50 billion on causes like health, poverty, and education. His image morphed from \"tyrannical technocrat to saintly savior\" to a \"huggable billionaire techno-philanthropist\", celebrated on magazine covers and sought after for his opinions on major issues like global health and climate change. [221] Still another shift in public opinion came in 2021 with the announcement that he and Melinda were divorcing. Coverage of that proceeding brought out information about romantic pursuits of women who worked for him, a long-term extra-marital affair, and a friendship with convicted sex offender Jeffrey Epstein. [217] This information and his response to the COVID-19 pandemic resulted in some deterioration of his public image, going from \"a lovable nerd who was out to save the world.\" to \"a tech supervillain who wants to protect profits over public health. \"[222]\n",
       "\n",
       "Investigative journalist Tim Schwab has accused Gates of using his contributions to the media to shape their coverage of him in order to protect his public image. [106][223]\n",
       "\n",
       "In an interview with Rolling Stone, Gates said in regard to his faith: \"The moral systems of religion, I think, are super important. We've raised our kids in a religious way; they've gone to the Catholic church that Melinda goes to and I participate in. I've been very lucky, and therefore I owe it to try and reduce the inequity in the world. And that's kind of a religious belief. I mean, it's at least a moral belief. \"[224] In the same 2014 interview he also said: \"I agree with people like Richard Dawkins that mankind felt the need for creation myths. Before we really began to understand disease and the weather and things like that, we sought false explanations for them. Now science has filled in some of the realm – not all – that religion used to fill. But the mystery and the beauty of the world is overwhelmingly amazing, and there's no scientific explanation of how it came about. To say that it was generated by random numbers, that does seem, you know, sort of an uncharitable view [laughs]. I think it makes sense to believe in God, but exactly what decision in your life you make differently because of it, I don't know. <mark>\"[224]\n",
       "\n",
       "In 1999, his wealth briefly surpassed US$101 billion.</mark> [225][201] Since 2000, the nominal value of his Microsoft holdings has declined due to a fall in Microsoft's stock price after the dot-com bubble burst and the multi-billion dollar donations he has made to his charitable foundations. In May 2006, Gates remarked that he wished that he were not the richest man in the world because he disliked the attention it brought. <mark>[226] In March 2010, Gates was the second wealthiest person after Carlos Slim, but regained the top position in 2013, according to the Bloomberg Billionaires List.</mark> [227][228] Slim retook the position again in June 2014[229][230] (but then lost the top position back to Gates). Between 2009 and 2014, his wealth doubled from US$40 billion to more than US$82 billion. [231] In October 2017, Gates was surpassed by Amazon founder Jeff Bezos as the richest person in the world. [16] On November 15, 2019, he once again became the richest person in the world after a 48% increase in Microsoft shares, surpassing Bezos. <mark>[232] Gates told the BBC, \"I've paid more tax than any individual ever, and gladly so ...</mark> I've paid over $6 billion in taxes. \"[233] He is a proponent of higher taxes, particularly for the rich. [234]\n",
       "\n",
       "By 2017, Gates had held the top spot on the list of The World's Billionaires for 18 out of the previous 23 years. <mark>[235] Gates has several investments outside Microsoft, which in 2006 paid him a salary of US$616,667 and US$350,000 bonus totalling US$966,667.</mark> <mark>[236] In 1989, he founded Corbis, a digital imaging company.</mark> <mark>In 2004, he became a director of Berkshire Hathaway, the investment company headed by long-time friend Warren Buffett.</mark> [237]\n",
       "\n",
       "In 1987, Gates was listed as a billionaire in Forbes magazine's 400 Richest People in America issue, worth $1.25 billion at the time, and was the world's youngest self-made billionaire. [14] Since 1987, Gates has been included in the Forbes The World's Billionaires list and was the wealthiest person from 1995 to 1996,[238] 1998 to 2007, 2009, and held the spot until 2018 before being overtaken by Jeff Bezos. [15] Gates was number one on the Forbes 400 list from 1993 through to 2007, 2009, and 2014 through 2017. <mark>[239][240]\n",
       "• Time magazine named Gates one of the 100 people who most influenced the 20th century, as well as one of the 100 most influential people of 2004, 2005, and 2006.</mark> [241]\n",
       "• Time also collectively named Gates, his wife Melinda and U2's lead singer Bono as the 2005 Persons of the Year for their humanitarian efforts. [242] In 2006, he was voted eighth in the list of \"Heroes of our time\". [243]\n",
       "• Gates was listed in the London Sunday Times power list in 1999, named CEO of the year by Chief Executive Officers magazine in 1994, ranked number one in the \"Top 50 Cyber Elite\" by Time in 1998, ranked number two in the Upside Elite 100 in 1999, and was included in The Guardian as one of the \"Top 100 influential people in media\" in 2001. [244]\n",
       "• Gates was elected Member of the US National Academy of Engineering in 1996 \"for contributions to the founding and development of personal computing\". [245]\n",
       "• He was named Honorary Member of the American Library Association in 1998. <mark>[246]\n",
       "• He was elected a foreign member of the Chinese Academy of Engineering in 2017.</mark> [247]\n",
       "• According to Forbes, Gates was ranked as the fourth most powerful person in the world in 2012,[248] up from fifth in 2011. [249]\n",
       "• In 1994, he was honored as the 20th Distinguished Fellow of the British Computer Society (DFBCS). In 1999, Gates received New York Institute of Technology's President's Medal. <mark>[250]\n",
       "• Gates has received honorary doctorates from Nyenrode Business Universiteit (1996),[251] KTH Royal Institute of Technology (2002),[252] Waseda University (2005),[253] Tsinghua University (2007),[254] Harvard University (2007),[255] the Karolinska Institute (2007),[256] and Cambridge University (2009).</mark> [257]\n",
       "• He was also made an honorary trustee of Peking University in 2007. [258]\n",
       "• Gates was made an Honorary Knight Commander of the Order of the British Empire (KBE) by Queen Elizabeth II in 2005. [259]\n",
       "• In January 2006, he was awarded the Grand Cross of the Order of Prince Henry by the President of Portugal Jorge Sampaio\n",
       "• In November 2006, he was awarded the Placard of the Order of the Aztec Eagle, together with his wife Melinda who was awarded the Insignia of the same order, both for their philanthropic work around the world in the areas of health and education, particularly in Mexico, and specifically in the program \" \". [260]\n",
       "• Gates received the 2010 Bower Award for Business Leadership from The Franklin Institute for his achievements at Microsoft and his philanthropic work. [261]\n",
       "• Also in 2010, he was honored with the Silver Buffalo Award by the Boy Scouts of America, its highest award for adults, for his service to youth. [262]\n",
       "• In 2002, Bill and Melinda Gates received the Jefferson Award for Greatest Public Service Benefiting the Disadvantaged. [263]\n",
       "• He was given the 2006 James C. Morgan Global Humanitarian Award from the Tech Awards. [264]\n",
       "• In 2015, Gates and his wife Melinda received the Padma Bhushan, India's third-highest civilian award for their social work in the country. [265][266]\n",
       "• In 2016, Barack Obama honored Bill and Melinda Gates with the Presidential Medal of Freedom for their philanthropic efforts. [267]\n",
       "• In 2017, François Hollande awarded Bill and Melinda Gates with France's highest national order, the Commander of the Legion of Honour, for their charity efforts. [268]\n",
       "• Entomologists named Bill Gates' flower fly, , in his honor in 1997. [269]\n",
       "• In 2020, Bill Gates received the Grand Cordon of the Order of the Rising Sun for his contributions to Japan and the world in regards to worldwide technological transformation and advancement of global health. [270]\n",
       "• In 2021, Bill Gates was nominated at the 11th annual Streamy Awards for the crossover for his personal YouTube channel. [271]\n",
       "• In 2022, Bill Gates received the Hilal-e-Pakistan Second-highest civilian award for their social work in the country. • The Machine That Changed the World (1990)\n",
       "• 1999: Pirates of Silicon Valley, a film that chronicles the rise of Apple and Microsoft from the early 1970s to 1997. Gates is portrayed by Anthony Michael Hall. • 2002: Nothing So Strange, a mockumentary featuring Gates as the subject of a modern assassination. <mark>Gates briefly appears at the start, played by Steve Sires.</mark> • 2010: The Social Network, a film that chronicles the development of Facebook. Gates is portrayed by Steve Sires. [274]\n",
       "• 2015: Steve Jobs vs. Bill Gates: The Competition to Control the Personal Computer, 1974–1999: Original film from the National Geographic Channel for the American Genius series. [275]\n",
       "• 1983: Steve Jobs hosts Gates and others in the \"Macintosh dating game\" at the Macintosh pre-launch event (a parody of the television game show The Dating Game)[276]\n",
       "• 1991: Gates spoke to the Berkeley Macintosh Users Group lively weekly Thursday night meeting with questions and answers in PSL Hall (renamed Pimentel Hall in 1994)[277] at University of California, Berkeley[278][279][280]\n",
       "• 2007: Steve Jobs and Bill Gates Together at the D5 Conference on YouTube, All Things Digital\n",
       "• 2009− : Gates has given numerous TED talks on current concerns such as innovation, education and fighting global diseases[281]\n",
       "\n",
       "Gates was the guest on BBC Radio 4's Desert Island Discs on January 31, 2016, in which he talked about his relationships with his father and Steve Jobs, meeting Melinda Ann French, the start of Microsoft and some of his habits (for example reading The Economist \"from cover to cover every week\"). His choice of things to take on a desert island were, for music: \"Blue Skies\" by Willie Nelson; a book: The Better Angels of Our Nature by Steven Pinker; and luxury item: a DVD Collection of Lectures from The Teaching Company. [282]\n",
       "\n",
       "Gates made a guest appearance as himself on the TV show The Big Bang Theory. The episode on which he appeared was appropriately titled \"The Gates Excitation\". [283] He also appeared in a cameo role in 2019 on the series finale of Silicon Valley. [284] Gates was parodied in The Simpsons episode \"Das Bus\". • None Fridson, Martin (2001). How to Be a Billionaire: Proven Strategies from the Titans of Wealth. John Wiley & Sons. ISBN . • None Manes, Stephen (1994). Gates: How Microsoft's Mogul Reinvented an Industry and Made Himself the Richest Man in America. Touchstone Pictures. ISBN . • None Wallace, James (1993). Hard Drive: Bill Gates and the Making of the Microsoft Empire. New York City: HarperCollins Publishers. ISBN . • Gates, Bill. \"An exclusive interview with Bill Gates\". Financial Times 1 (2013). online\n",
       "• Kinsley, Michael, and Conor Clarke, Eds. Creative Capitalism: A Conversation With Bill Gates, Warren Buffett, and Other Economic Leaders (Simon and Schuster, 2009). • None Bank, David (2001). Breaking Windows: How Bill Gates Fumbled the Future of Microsoft. New York City: Free Press. ISBN . • None Rivlin, Gary (1999). The Plot to Get Bill Gates: An Irreverent Investigation of the World's Richest Man... and the People Who Hate Him. New York City: Times Business. ISBN . • None \"83 Reasons Why Bill Gates's Reign Is Over\". Wired. Vol. 6, no. 12. December 1998. Archived from the original on August 22, 2010. • None Kildall, Gary (October 25, 2004). \"The Man Who Could Have Been Bill Gates\". Bloomberg BusinessWeek. Archived from the original on April 4, 2006 . • \"The Meaning of Bill Gates: As his reign at Microsoft comes to an end, so does the era he dominated\", The Economist, June 28, 2008. • Wallace, James. Overdrive: Bill Gates and the Race to Control Cyberspace (John Wiley & Sons, Inc., 1997). "
      ],
      "text/plain": [
       "<IPython.core.display.HTML object>"
      ]
     },
     "metadata": {},
     "output_type": "display_data"
    }
   ],
   "source": [
    "visualize(article.title, original_sentences,  best_sentences)"
   ]
  },
  {
   "cell_type": "code",
   "execution_count": null,
   "metadata": {},
   "outputs": [],
   "source": []
  }
 ],
 "metadata": {
  "colab": {
   "collapsed_sections": [],
   "provenance": []
  },
  "kernelspec": {
   "display_name": "Python 3 (ipykernel)",
   "language": "python",
   "name": "python3"
  },
  "language_info": {
   "codemirror_mode": {
    "name": "ipython",
    "version": 3
   },
   "file_extension": ".py",
   "mimetype": "text/x-python",
   "name": "python",
   "nbconvert_exporter": "python",
   "pygments_lexer": "ipython3",
   "version": "3.9.12"
  }
 },
 "nbformat": 4,
 "nbformat_minor": 1
}
